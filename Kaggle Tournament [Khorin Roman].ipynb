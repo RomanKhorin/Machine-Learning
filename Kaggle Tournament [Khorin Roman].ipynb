{
 "cells": [
  {
   "cell_type": "code",
   "execution_count": 1,
   "metadata": {},
   "outputs": [
    {
     "name": "stderr",
     "output_type": "stream",
     "text": [
      "/anaconda3/lib/python3.6/site-packages/sklearn/cross_validation.py:41: DeprecationWarning: This module was deprecated in version 0.18 in favor of the model_selection module into which all the refactored classes and functions are moved. Also note that the interface of the new CV iterators are different from that of this module. This module will be removed in 0.20.\n",
      "  \"This module will be removed in 0.20.\", DeprecationWarning)\n",
      "/anaconda3/lib/python3.6/site-packages/sklearn/grid_search.py:42: DeprecationWarning: This module was deprecated in version 0.18 in favor of the model_selection module into which all the refactored classes and functions are moved. This module will be removed in 0.20.\n",
      "  DeprecationWarning)\n"
     ]
    }
   ],
   "source": [
    "import pandas as pd\n",
    "import numpy as np\n",
    "from matplotlib import pyplot as plt\n",
    "%matplotlib inline\n",
    "import warnings\n",
    "warnings.filterwarnings('ignore')\n",
    "import seaborn as sns\n",
    "\n",
    "from sklearn import preprocessing\n",
    "from sklearn.preprocessing import scale\n",
    "from sklearn.utils import shuffle\n",
    "from sklearn.preprocessing import LabelEncoder\n",
    "from sklearn.svm import SVC\n",
    "from sklearn.linear_model import LogisticRegression\n",
    "from sklearn.naive_bayes import GaussianNB\n",
    "from sklearn.ensemble import RandomForestClassifier, GradientBoostingClassifier, AdaBoostClassifier, VotingClassifier\n",
    "from sklearn.neighbors import  KNeighborsClassifier\n",
    "from sklearn.neural_network import MLPClassifier\n",
    "from sklearn.tree import DecisionTreeClassifier\n",
    "\n",
    "\n",
    "from sklearn.metrics import roc_auc_score, accuracy_score\n",
    "from sklearn.grid_search import GridSearchCV\n",
    "from sklearn.cross_validation import train_test_split, StratifiedKFold"
   ]
  },
  {
   "cell_type": "markdown",
   "metadata": {},
   "source": [
    "#### Загрузка данных"
   ]
  },
  {
   "cell_type": "code",
   "execution_count": 2,
   "metadata": {},
   "outputs": [
    {
     "name": "stdout",
     "output_type": "stream",
     "text": [
      "age, num. NA's: 0\n",
      "job, num. NA's: 0\n",
      "marital, num. NA's: 0\n",
      "education, num. NA's: 0\n",
      "default, num. NA's: 0\n",
      "housing, num. NA's: 0\n",
      "loan, num. NA's: 0\n",
      "contact, num. NA's: 0\n",
      "month, num. NA's: 0\n",
      "day_of_week, num. NA's: 0\n",
      "duration, num. NA's: 0\n",
      "campaign, num. NA's: 0\n",
      "pdays, num. NA's: 0\n",
      "previous, num. NA's: 0\n",
      "poutcome, num. NA's: 0\n",
      "emp.var.rate, num. NA's: 0\n",
      "cons.price.idx, num. NA's: 0\n",
      "cons.conf.idx, num. NA's: 0\n",
      "euribor3m, num. NA's: 0\n",
      "nr.employed, num. NA's: 0\n"
     ]
    }
   ],
   "source": [
    "train_data = pd.read_csv('train_data.csv')\n",
    "train_target = pd.read_csv('train_target.csv', names=['Prediction'])\n",
    "\n",
    "for col in train_data.columns:\n",
    "    print(\"{0}, num. NA's: {1}\".format(col, pd.isnull(train_data[col]).sum()))"
   ]
  },
  {
   "cell_type": "markdown",
   "metadata": {},
   "source": [
    "#### One-hot кодирование номинальных признаков"
   ]
  },
  {
   "cell_type": "code",
   "execution_count": 5,
   "metadata": {},
   "outputs": [
    {
     "name": "stdout",
     "output_type": "stream",
     "text": [
      "<class 'pandas.core.frame.DataFrame'>\n",
      "RangeIndex: 27595 entries, 0 to 27594\n",
      "Data columns (total 20 columns):\n",
      "age               27595 non-null int64\n",
      "job               27595 non-null object\n",
      "marital           27595 non-null object\n",
      "education         27595 non-null object\n",
      "default           27595 non-null object\n",
      "housing           27595 non-null object\n",
      "loan              27595 non-null object\n",
      "contact           27595 non-null object\n",
      "month             27595 non-null object\n",
      "day_of_week       27595 non-null object\n",
      "duration          27595 non-null int64\n",
      "campaign          27595 non-null int64\n",
      "pdays             27595 non-null int64\n",
      "previous          27595 non-null int64\n",
      "poutcome          27595 non-null object\n",
      "emp.var.rate      27595 non-null float64\n",
      "cons.price.idx    27595 non-null float64\n",
      "cons.conf.idx     27595 non-null float64\n",
      "euribor3m         27595 non-null float64\n",
      "nr.employed       27595 non-null float64\n",
      "dtypes: float64(5), int64(5), object(10)\n",
      "memory usage: 18.7 MB\n"
     ]
    }
   ],
   "source": [
    "train_data.info(memory_usage='deep')\n"
   ]
  },
  {
   "cell_type": "code",
   "execution_count": 7,
   "metadata": {},
   "outputs": [
    {
     "name": "stdout",
     "output_type": "stream",
     "text": [
      "Average memory usage for object columns: 1.51 MB\n",
      "Average memory usage for int64 columns: 0.18 MB\n",
      "Average memory usage for float64 columns: 0.18 MB\n"
     ]
    }
   ],
   "source": [
    "for dtype in list(set(train_data.dtypes)):\n",
    "    selected_dtype = train_data.select_dtypes(include=[dtype])\n",
    "    mean_usage_b = selected_dtype.memory_usage(deep=True).mean()\n",
    "    mean_usage_mb = mean_usage_b / 1024 ** 2\n",
    "    print(\"Average memory usage for {} columns: {:03.2f} MB\".format(dtype,mean_usage_mb))"
   ]
  },
  {
   "cell_type": "code",
   "execution_count": 8,
   "metadata": {
    "collapsed": true
   },
   "outputs": [],
   "source": [
    "# We're going to be calculating memory usage a lot,\n",
    "# so we'll create a function to save us some time!\n",
    "\n",
    "def mem_usage(pandas_obj):\n",
    "    if isinstance(pandas_obj,pd.DataFrame):\n",
    "        usage_b = pandas_obj.memory_usage(deep=True).sum()\n",
    "    else: # we assume if not a df it's a series\n",
    "        usage_b  = pandas_obj.memory_usage(deep=True)\n",
    "    usage_mb = usage_b / 1024 ** 2 # convert bytes to megabytes\n",
    "    return \"{:03.2f} MB\".format(usage_mb)\n"
   ]
  },
  {
   "cell_type": "code",
   "execution_count": 9,
   "metadata": {},
   "outputs": [
    {
     "name": "stdout",
     "output_type": "stream",
     "text": [
      "1.05 MB\n",
      "0.18 MB\n"
     ]
    },
    {
     "data": {
      "text/html": [
       "<div>\n",
       "<style>\n",
       "    .dataframe thead tr:only-child th {\n",
       "        text-align: right;\n",
       "    }\n",
       "\n",
       "    .dataframe thead th {\n",
       "        text-align: left;\n",
       "    }\n",
       "\n",
       "    .dataframe tbody tr th {\n",
       "        vertical-align: top;\n",
       "    }\n",
       "</style>\n",
       "<table border=\"1\" class=\"dataframe\">\n",
       "  <thead>\n",
       "    <tr style=\"text-align: right;\">\n",
       "      <th></th>\n",
       "      <th>before</th>\n",
       "      <th>after</th>\n",
       "    </tr>\n",
       "  </thead>\n",
       "  <tbody>\n",
       "    <tr>\n",
       "      <th>uint8</th>\n",
       "      <td>NaN</td>\n",
       "      <td>3.0</td>\n",
       "    </tr>\n",
       "    <tr>\n",
       "      <th>uint16</th>\n",
       "      <td>NaN</td>\n",
       "      <td>2.0</td>\n",
       "    </tr>\n",
       "    <tr>\n",
       "      <th>int64</th>\n",
       "      <td>5.0</td>\n",
       "      <td>NaN</td>\n",
       "    </tr>\n",
       "  </tbody>\n",
       "</table>\n",
       "</div>"
      ],
      "text/plain": [
       "        before  after\n",
       "uint8      NaN    3.0\n",
       "uint16     NaN    2.0\n",
       "int64      5.0    NaN"
      ]
     },
     "execution_count": 9,
     "metadata": {},
     "output_type": "execute_result"
    }
   ],
   "source": [
    "gl_int = train_data.select_dtypes(include=['int'])\n",
    "converted_int = gl_int.apply(pd.to_numeric,downcast='unsigned')\n",
    "\n",
    "print(mem_usage(gl_int))\n",
    "print(mem_usage(converted_int))\n",
    "\n",
    "compare_ints = pd.concat([gl_int.dtypes,converted_int.dtypes],axis=1)\n",
    "compare_ints.columns = ['before','after']\n",
    "compare_ints.apply(pd.Series.value_counts)"
   ]
  },
  {
   "cell_type": "code",
   "execution_count": 10,
   "metadata": {},
   "outputs": [
    {
     "name": "stdout",
     "output_type": "stream",
     "text": [
      "1.05 MB\n",
      "0.53 MB\n"
     ]
    },
    {
     "data": {
      "text/html": [
       "<div>\n",
       "<style>\n",
       "    .dataframe thead tr:only-child th {\n",
       "        text-align: right;\n",
       "    }\n",
       "\n",
       "    .dataframe thead th {\n",
       "        text-align: left;\n",
       "    }\n",
       "\n",
       "    .dataframe tbody tr th {\n",
       "        vertical-align: top;\n",
       "    }\n",
       "</style>\n",
       "<table border=\"1\" class=\"dataframe\">\n",
       "  <thead>\n",
       "    <tr style=\"text-align: right;\">\n",
       "      <th></th>\n",
       "      <th>before</th>\n",
       "      <th>after</th>\n",
       "    </tr>\n",
       "  </thead>\n",
       "  <tbody>\n",
       "    <tr>\n",
       "      <th>float32</th>\n",
       "      <td>NaN</td>\n",
       "      <td>5.0</td>\n",
       "    </tr>\n",
       "    <tr>\n",
       "      <th>float64</th>\n",
       "      <td>5.0</td>\n",
       "      <td>NaN</td>\n",
       "    </tr>\n",
       "  </tbody>\n",
       "</table>\n",
       "</div>"
      ],
      "text/plain": [
       "         before  after\n",
       "float32     NaN    5.0\n",
       "float64     5.0    NaN"
      ]
     },
     "execution_count": 10,
     "metadata": {},
     "output_type": "execute_result"
    }
   ],
   "source": [
    "gl_float = train_data.select_dtypes(include=['float'])\n",
    "converted_float = gl_float.apply(pd.to_numeric,downcast='float')\n",
    "\n",
    "print(mem_usage(gl_float))\n",
    "print(mem_usage(converted_float))\n",
    "\n",
    "compare_floats = pd.concat([gl_float.dtypes,converted_float.dtypes],axis=1)\n",
    "compare_floats.columns = ['before','after']\n",
    "compare_floats.apply(pd.Series.value_counts)"
   ]
  },
  {
   "cell_type": "code",
   "execution_count": 11,
   "metadata": {},
   "outputs": [
    {
     "name": "stdout",
     "output_type": "stream",
     "text": [
      "18.72 MB\n",
      "17.32 MB\n"
     ]
    }
   ],
   "source": [
    "print(mem_usage(train_data))\n",
    "\n",
    "train_data[converted_int.columns] = converted_int\n",
    "train_data[converted_float.columns] = converted_float\n",
    "\n",
    "print(mem_usage(train_data))\n"
   ]
  },
  {
   "cell_type": "code",
   "execution_count": 12,
   "metadata": {},
   "outputs": [
    {
     "data": {
      "text/plain": [
       "'16.61 MB'"
      ]
     },
     "execution_count": 12,
     "metadata": {},
     "output_type": "execute_result"
    }
   ],
   "source": [
    "mem_usage(train_data.select_dtypes(['object']))\n"
   ]
  },
  {
   "cell_type": "code",
   "execution_count": 13,
   "metadata": {
    "collapsed": true
   },
   "outputs": [],
   "source": [
    "gl_obj = train_data.select_dtypes(include=['object'])\n",
    "\n",
    "converted_obj = pd.DataFrame()\n",
    "\n",
    "for col in gl_obj.columns:\n",
    "    num_unique_values = len(gl_obj[col].unique())\n",
    "    num_total_values = len(gl_obj[col])\n",
    "    if num_unique_values / num_total_values < 0.5:\n",
    "        converted_obj.loc[:,col] = gl_obj[col].astype('category')\n",
    "    else:\n",
    "        converted_obj.loc[:,col] = gl_obj[col]\n",
    "        "
   ]
  },
  {
   "cell_type": "code",
   "execution_count": 15,
   "metadata": {},
   "outputs": [
    {
     "name": "stdout",
     "output_type": "stream",
     "text": [
      "16.61 MB\n",
      "0.27 MB\n"
     ]
    },
    {
     "ename": "TypeError",
     "evalue": "data type not understood",
     "output_type": "error",
     "traceback": [
      "\u001b[0;31m---------------------------------------------------------------------------\u001b[0m",
      "\u001b[0;31mTypeError\u001b[0m                                 Traceback (most recent call last)",
      "\u001b[0;31mTypeError\u001b[0m: data type not understood"
     ]
    },
    {
     "name": "stderr",
     "output_type": "stream",
     "text": [
      "Exception ignored in: 'pandas._libs.lib.array_equivalent_object'\n",
      "TypeError: data type not understood\n"
     ]
    },
    {
     "data": {
      "text/html": [
       "<div>\n",
       "<style>\n",
       "    .dataframe thead tr:only-child th {\n",
       "        text-align: right;\n",
       "    }\n",
       "\n",
       "    .dataframe thead th {\n",
       "        text-align: left;\n",
       "    }\n",
       "\n",
       "    .dataframe tbody tr th {\n",
       "        vertical-align: top;\n",
       "    }\n",
       "</style>\n",
       "<table border=\"1\" class=\"dataframe\">\n",
       "  <thead>\n",
       "    <tr style=\"text-align: right;\">\n",
       "      <th></th>\n",
       "      <th>before</th>\n",
       "      <th>after</th>\n",
       "    </tr>\n",
       "  </thead>\n",
       "  <tbody>\n",
       "    <tr>\n",
       "      <th>object</th>\n",
       "      <td>10.0</td>\n",
       "      <td>NaN</td>\n",
       "    </tr>\n",
       "    <tr>\n",
       "      <th>category</th>\n",
       "      <td>NaN</td>\n",
       "      <td>10.0</td>\n",
       "    </tr>\n",
       "  </tbody>\n",
       "</table>\n",
       "</div>"
      ],
      "text/plain": [
       "          before  after\n",
       "object      10.0    NaN\n",
       "category     NaN   10.0"
      ]
     },
     "execution_count": 15,
     "metadata": {},
     "output_type": "execute_result"
    }
   ],
   "source": [
    "print(mem_usage(gl_obj))\n",
    "print(mem_usage(converted_obj))\n",
    "\n",
    "compare_obj = pd.concat([gl_obj.dtypes,converted_obj.dtypes],axis=1)\n",
    "compare_obj.columns = ['before','after']\n",
    "compare_obj.apply(pd.Series.value_counts)"
   ]
  },
  {
   "cell_type": "code",
   "execution_count": 16,
   "metadata": {
    "collapsed": true
   },
   "outputs": [],
   "source": [
    "train_data[converted_obj.columns] = converted_obj\n"
   ]
  },
  {
   "cell_type": "code",
   "execution_count": 17,
   "metadata": {},
   "outputs": [
    {
     "data": {
      "text/plain": [
       "'0.98 MB'"
      ]
     },
     "execution_count": 17,
     "metadata": {},
     "output_type": "execute_result"
    }
   ],
   "source": [
    "mem_usage(train_data)\n"
   ]
  },
  {
   "cell_type": "code",
   "execution_count": 18,
   "metadata": {},
   "outputs": [
    {
     "data": {
      "text/plain": [
       "age                  uint8\n",
       "job               category\n",
       "marital           category\n",
       "education         category\n",
       "default           category\n",
       "housing           category\n",
       "loan              category\n",
       "contact           category\n",
       "month             category\n",
       "day_of_week       category\n",
       "duration            uint16\n",
       "campaign             uint8\n",
       "pdays               uint16\n",
       "previous             uint8\n",
       "poutcome          category\n",
       "emp.var.rate       float32\n",
       "cons.price.idx     float32\n",
       "cons.conf.idx      float32\n",
       "euribor3m          float32\n",
       "nr.employed        float32\n",
       "dtype: object"
      ]
     },
     "execution_count": 18,
     "metadata": {},
     "output_type": "execute_result"
    }
   ],
   "source": [
    "train_data.dtypes\n"
   ]
  },
  {
   "cell_type": "code",
   "execution_count": 21,
   "metadata": {},
   "outputs": [
    {
     "name": "stdout",
     "output_type": "stream",
     "text": [
      "{   'age': 'uint8',\n",
      "    'contact': 'category',\n",
      "    'day_of_week': 'category',\n",
      "    'default': 'category',\n",
      "    'education': 'category',\n",
      "    'housing': 'category',\n",
      "    'job': 'category',\n",
      "    'loan': 'category',\n",
      "    'marital': 'category',\n",
      "    'month': 'category'}\n"
     ]
    }
   ],
   "source": [
    "dtypes = train_data.dtypes\n",
    "\n",
    "dtypes_col = dtypes.index\n",
    "dtypes_type = [i.name for i in dtypes.values]\n",
    "\n",
    "column_types = dict(zip(dtypes_col, dtypes_type))\n",
    "\n",
    "# rather than print all 161 items, we'll\n",
    "# sample 10 key/value pairs from the dict\n",
    "# and print it nicely using prettyprint\n",
    "\n",
    "preview = first2pairs = {key:value for key,value in list(column_types.items())[:10]}\n",
    "import pprint\n",
    "pp = pp = pprint.PrettyPrinter(indent=4)\n",
    "pp.pprint(preview)"
   ]
  },
  {
   "cell_type": "code",
   "execution_count": 22,
   "metadata": {},
   "outputs": [
    {
     "name": "stdout",
     "output_type": "stream",
     "text": [
      "0.98 MB\n"
     ]
    },
    {
     "data": {
      "text/html": [
       "<div>\n",
       "<style>\n",
       "    .dataframe thead tr:only-child th {\n",
       "        text-align: right;\n",
       "    }\n",
       "\n",
       "    .dataframe thead th {\n",
       "        text-align: left;\n",
       "    }\n",
       "\n",
       "    .dataframe tbody tr th {\n",
       "        vertical-align: top;\n",
       "    }\n",
       "</style>\n",
       "<table border=\"1\" class=\"dataframe\">\n",
       "  <thead>\n",
       "    <tr style=\"text-align: right;\">\n",
       "      <th></th>\n",
       "      <th>age</th>\n",
       "      <th>job</th>\n",
       "      <th>marital</th>\n",
       "      <th>education</th>\n",
       "      <th>default</th>\n",
       "      <th>housing</th>\n",
       "      <th>loan</th>\n",
       "      <th>contact</th>\n",
       "      <th>month</th>\n",
       "      <th>day_of_week</th>\n",
       "      <th>duration</th>\n",
       "      <th>campaign</th>\n",
       "      <th>pdays</th>\n",
       "      <th>previous</th>\n",
       "      <th>poutcome</th>\n",
       "      <th>emp.var.rate</th>\n",
       "      <th>cons.price.idx</th>\n",
       "      <th>cons.conf.idx</th>\n",
       "      <th>euribor3m</th>\n",
       "      <th>nr.employed</th>\n",
       "    </tr>\n",
       "  </thead>\n",
       "  <tbody>\n",
       "    <tr>\n",
       "      <th>0</th>\n",
       "      <td>26</td>\n",
       "      <td>student</td>\n",
       "      <td>single</td>\n",
       "      <td>high.school</td>\n",
       "      <td>no</td>\n",
       "      <td>no</td>\n",
       "      <td>no</td>\n",
       "      <td>telephone</td>\n",
       "      <td>jun</td>\n",
       "      <td>mon</td>\n",
       "      <td>901</td>\n",
       "      <td>1</td>\n",
       "      <td>999</td>\n",
       "      <td>0</td>\n",
       "      <td>nonexistent</td>\n",
       "      <td>1.4</td>\n",
       "      <td>94.464996</td>\n",
       "      <td>-41.799999</td>\n",
       "      <td>4.961</td>\n",
       "      <td>5228.100098</td>\n",
       "    </tr>\n",
       "    <tr>\n",
       "      <th>1</th>\n",
       "      <td>46</td>\n",
       "      <td>admin.</td>\n",
       "      <td>married</td>\n",
       "      <td>university.degree</td>\n",
       "      <td>no</td>\n",
       "      <td>yes</td>\n",
       "      <td>no</td>\n",
       "      <td>cellular</td>\n",
       "      <td>aug</td>\n",
       "      <td>tue</td>\n",
       "      <td>208</td>\n",
       "      <td>2</td>\n",
       "      <td>999</td>\n",
       "      <td>0</td>\n",
       "      <td>nonexistent</td>\n",
       "      <td>1.4</td>\n",
       "      <td>93.444000</td>\n",
       "      <td>-36.099998</td>\n",
       "      <td>4.963</td>\n",
       "      <td>5228.100098</td>\n",
       "    </tr>\n",
       "    <tr>\n",
       "      <th>2</th>\n",
       "      <td>49</td>\n",
       "      <td>blue-collar</td>\n",
       "      <td>married</td>\n",
       "      <td>basic.4y</td>\n",
       "      <td>unknown</td>\n",
       "      <td>yes</td>\n",
       "      <td>yes</td>\n",
       "      <td>telephone</td>\n",
       "      <td>jun</td>\n",
       "      <td>tue</td>\n",
       "      <td>131</td>\n",
       "      <td>5</td>\n",
       "      <td>999</td>\n",
       "      <td>0</td>\n",
       "      <td>nonexistent</td>\n",
       "      <td>1.4</td>\n",
       "      <td>94.464996</td>\n",
       "      <td>-41.799999</td>\n",
       "      <td>4.864</td>\n",
       "      <td>5228.100098</td>\n",
       "    </tr>\n",
       "    <tr>\n",
       "      <th>3</th>\n",
       "      <td>31</td>\n",
       "      <td>technician</td>\n",
       "      <td>married</td>\n",
       "      <td>university.degree</td>\n",
       "      <td>no</td>\n",
       "      <td>no</td>\n",
       "      <td>no</td>\n",
       "      <td>cellular</td>\n",
       "      <td>jul</td>\n",
       "      <td>tue</td>\n",
       "      <td>404</td>\n",
       "      <td>1</td>\n",
       "      <td>999</td>\n",
       "      <td>0</td>\n",
       "      <td>nonexistent</td>\n",
       "      <td>-2.9</td>\n",
       "      <td>92.469002</td>\n",
       "      <td>-33.599998</td>\n",
       "      <td>1.044</td>\n",
       "      <td>5076.200195</td>\n",
       "    </tr>\n",
       "    <tr>\n",
       "      <th>4</th>\n",
       "      <td>42</td>\n",
       "      <td>housemaid</td>\n",
       "      <td>married</td>\n",
       "      <td>university.degree</td>\n",
       "      <td>no</td>\n",
       "      <td>yes</td>\n",
       "      <td>no</td>\n",
       "      <td>telephone</td>\n",
       "      <td>nov</td>\n",
       "      <td>mon</td>\n",
       "      <td>85</td>\n",
       "      <td>1</td>\n",
       "      <td>999</td>\n",
       "      <td>0</td>\n",
       "      <td>nonexistent</td>\n",
       "      <td>-0.1</td>\n",
       "      <td>93.199997</td>\n",
       "      <td>-42.000000</td>\n",
       "      <td>4.191</td>\n",
       "      <td>5195.799805</td>\n",
       "    </tr>\n",
       "  </tbody>\n",
       "</table>\n",
       "</div>"
      ],
      "text/plain": [
       "   age          job  marital          education  default housing loan  \\\n",
       "0   26      student   single        high.school       no      no   no   \n",
       "1   46       admin.  married  university.degree       no     yes   no   \n",
       "2   49  blue-collar  married           basic.4y  unknown     yes  yes   \n",
       "3   31   technician  married  university.degree       no      no   no   \n",
       "4   42    housemaid  married  university.degree       no     yes   no   \n",
       "\n",
       "     contact month day_of_week  duration  campaign  pdays  previous  \\\n",
       "0  telephone   jun         mon       901         1    999         0   \n",
       "1   cellular   aug         tue       208         2    999         0   \n",
       "2  telephone   jun         tue       131         5    999         0   \n",
       "3   cellular   jul         tue       404         1    999         0   \n",
       "4  telephone   nov         mon        85         1    999         0   \n",
       "\n",
       "      poutcome  emp.var.rate  cons.price.idx  cons.conf.idx  euribor3m  \\\n",
       "0  nonexistent           1.4       94.464996     -41.799999      4.961   \n",
       "1  nonexistent           1.4       93.444000     -36.099998      4.963   \n",
       "2  nonexistent           1.4       94.464996     -41.799999      4.864   \n",
       "3  nonexistent          -2.9       92.469002     -33.599998      1.044   \n",
       "4  nonexistent          -0.1       93.199997     -42.000000      4.191   \n",
       "\n",
       "   nr.employed  \n",
       "0  5228.100098  \n",
       "1  5228.100098  \n",
       "2  5228.100098  \n",
       "3  5076.200195  \n",
       "4  5195.799805  "
      ]
     },
     "execution_count": 22,
     "metadata": {},
     "output_type": "execute_result"
    }
   ],
   "source": [
    "read_and_optimized = pd.read_csv('train_data.csv',dtype=column_types)\n",
    "\n",
    "print(mem_usage(read_and_optimized))\n",
    "read_and_optimized.head()"
   ]
  },
  {
   "cell_type": "code",
   "execution_count": 26,
   "metadata": {
    "collapsed": true
   },
   "outputs": [],
   "source": [
    "sample = pd.read_csv('train_data.csv', nrows=100)"
   ]
  },
  {
   "cell_type": "code",
   "execution_count": null,
   "metadata": {
    "collapsed": true
   },
   "outputs": [],
   "source": []
  },
  {
   "cell_type": "code",
   "execution_count": 3,
   "metadata": {
    "collapsed": true
   },
   "outputs": [],
   "source": [
    "def encode_nominals(columns, data):\n",
    "    print('Feature encoding started...\\n')\n",
    "    encoder = LabelEncoder()\n",
    "    for name in columns:\n",
    "        print('Current name: ', name)\n",
    "        encoder.fit(data[name].drop_duplicates())\n",
    "        labels = list(set(encoder.transform(data[name])))\n",
    "        # work with binary features\n",
    "        dummy_features = pd.get_dummies(data[name])\n",
    "        headers = dummy_features.columns.tolist()\n",
    "        for header in range(len(headers)):\n",
    "            if (name=='default'):\n",
    "                headers[header] = 'default_' + headers[header]\n",
    "            elif (name=='marital'):\n",
    "                headers[header] = 'marital' + headers[header]\n",
    "            elif (name=='education'):\n",
    "                headers[header] = 'education' + headers[header]\n",
    "            elif (name=='housing'):\n",
    "                headers[header] = 'housing_' + headers[header]\n",
    "            elif (name=='loan'):\n",
    "                headers[header] = 'loan_' + headers[header]\n",
    "            elif name=='job':\n",
    "                headers[header] = headers[header] + '_job'\n",
    "            elif name=='contact':\n",
    "                headers[header] = headers[header] + '_contact'\n",
    "            elif name=='month':\n",
    "                headers[header] = headers[header]\n",
    "            elif name=='day_of_week':\n",
    "                headers[header] = headers[header]\n",
    "            elif name=='poutcome':\n",
    "                headers[header] = 'poutcome_' + headers[header]\n",
    "        dummy_features.columns = headers\n",
    "            # append new features to dataset\n",
    "        data = data.join(dummy_features)\n",
    "            # delete encoded feature\n",
    "        data = data.drop(name, axis=1)\n",
    "        print(\"\\t Feature '%s' - encoded correctly\" % name)\n",
    "            \n",
    "    print('\\nFeature encoding finished!')\n",
    "    return data"
   ]
  },
  {
   "cell_type": "markdown",
   "metadata": {},
   "source": [
    "Проведем one hot кодирование категориальных признаков в нашем датасете. Также удалим признак default_yes, потому что для признака default значение yes в тестовых данных не встречается вообще."
   ]
  },
  {
   "cell_type": "code",
   "execution_count": 4,
   "metadata": {},
   "outputs": [
    {
     "name": "stdout",
     "output_type": "stream",
     "text": [
      "Feature encoding started...\n",
      "\n",
      "Current name:  job\n",
      "\t Feature 'job' - encoded correctly\n",
      "Current name:  marital\n",
      "\t Feature 'marital' - encoded correctly\n",
      "Current name:  education\n",
      "\t Feature 'education' - encoded correctly\n",
      "Current name:  housing\n",
      "\t Feature 'housing' - encoded correctly\n",
      "Current name:  loan\n",
      "\t Feature 'loan' - encoded correctly\n",
      "Current name:  contact\n",
      "\t Feature 'contact' - encoded correctly\n",
      "Current name:  month\n",
      "\t Feature 'month' - encoded correctly\n",
      "Current name:  day_of_week\n",
      "\t Feature 'day_of_week' - encoded correctly\n",
      "Current name:  poutcome\n",
      "\t Feature 'poutcome' - encoded correctly\n",
      "Current name:  default\n",
      "\t Feature 'default' - encoded correctly\n",
      "\n",
      "Feature encoding finished!\n"
     ]
    }
   ],
   "source": [
    "columns = ['job', 'marital', 'education', 'housing', 'loan', 'contact',\n",
    "               'month', 'day_of_week','poutcome', 'default']\n",
    "\n",
    "# encode nominal features\n",
    "train_data = encode_nominals(columns, train_data)\n",
    "# make final dataset\n",
    "data = train_data.join(train_target)\n",
    "\n",
    "data.drop('default_yes', 1, inplace=True)"
   ]
  },
  {
   "cell_type": "code",
   "execution_count": 5,
   "metadata": {
    "collapsed": true
   },
   "outputs": [
    {
     "data": {
      "text/plain": [
       "array([[<matplotlib.axes._subplots.AxesSubplot object at 0x000001700943F940>,\n",
       "        <matplotlib.axes._subplots.AxesSubplot object at 0x000001700964DD30>,\n",
       "        <matplotlib.axes._subplots.AxesSubplot object at 0x000001700969B860>,\n",
       "        <matplotlib.axes._subplots.AxesSubplot object at 0x00000170097F87F0>,\n",
       "        <matplotlib.axes._subplots.AxesSubplot object at 0x000001700983FE48>,\n",
       "        <matplotlib.axes._subplots.AxesSubplot object at 0x000001700984E198>,\n",
       "        <matplotlib.axes._subplots.AxesSubplot object at 0x00000170098C9CC0>,\n",
       "        <matplotlib.axes._subplots.AxesSubplot object at 0x000001700A585EF0>],\n",
       "       [<matplotlib.axes._subplots.AxesSubplot object at 0x000001700A5C2D30>,\n",
       "        <matplotlib.axes._subplots.AxesSubplot object at 0x000001700A60FD68>,\n",
       "        <matplotlib.axes._subplots.AxesSubplot object at 0x000001700A650518>,\n",
       "        <matplotlib.axes._subplots.AxesSubplot object at 0x000001700A69B748>,\n",
       "        <matplotlib.axes._subplots.AxesSubplot object at 0x000001700A6D6CC0>,\n",
       "        <matplotlib.axes._subplots.AxesSubplot object at 0x000001700A723278>,\n",
       "        <matplotlib.axes._subplots.AxesSubplot object at 0x000001700A75C780>,\n",
       "        <matplotlib.axes._subplots.AxesSubplot object at 0x000001700A7A8FD0>],\n",
       "       [<matplotlib.axes._subplots.AxesSubplot object at 0x000001700A7F5A20>,\n",
       "        <matplotlib.axes._subplots.AxesSubplot object at 0x000001700A8337B8>,\n",
       "        <matplotlib.axes._subplots.AxesSubplot object at 0x000001700A87F7F0>,\n",
       "        <matplotlib.axes._subplots.AxesSubplot object at 0x000001700A8BF550>,\n",
       "        <matplotlib.axes._subplots.AxesSubplot object at 0x000001700A90B668>,\n",
       "        <matplotlib.axes._subplots.AxesSubplot object at 0x000001700A898D30>,\n",
       "        <matplotlib.axes._subplots.AxesSubplot object at 0x000001700A9834E0>,\n",
       "        <matplotlib.axes._subplots.AxesSubplot object at 0x000001700A98FF98>],\n",
       "       [<matplotlib.axes._subplots.AxesSubplot object at 0x000001700AA0BC88>,\n",
       "        <matplotlib.axes._subplots.AxesSubplot object at 0x000001700AA57CC0>,\n",
       "        <matplotlib.axes._subplots.AxesSubplot object at 0x000001700AA95B38>,\n",
       "        <matplotlib.axes._subplots.AxesSubplot object at 0x000001700AAE2B70>,\n",
       "        <matplotlib.axes._subplots.AxesSubplot object at 0x000001700AB204E0>,\n",
       "        <matplotlib.axes._subplots.AxesSubplot object at 0x000001700AB6D710>,\n",
       "        <matplotlib.axes._subplots.AxesSubplot object at 0x000001700ABA8D68>,\n",
       "        <matplotlib.axes._subplots.AxesSubplot object at 0x000001700ABF4518>],\n",
       "       [<matplotlib.axes._subplots.AxesSubplot object at 0x000001700AC2E828>,\n",
       "        <matplotlib.axes._subplots.AxesSubplot object at 0x000001700AC810B8>,\n",
       "        <matplotlib.axes._subplots.AxesSubplot object at 0x000001700ACC7AC8>,\n",
       "        <matplotlib.axes._subplots.AxesSubplot object at 0x000001700AD06978>,\n",
       "        <matplotlib.axes._subplots.AxesSubplot object at 0x000001700AD544E0>,\n",
       "        <matplotlib.axes._subplots.AxesSubplot object at 0x000001700AD915F8>,\n",
       "        <matplotlib.axes._subplots.AxesSubplot object at 0x000001700ADDF710>,\n",
       "        <matplotlib.axes._subplots.AxesSubplot object at 0x000001700AE19E80>],\n",
       "       [<matplotlib.axes._subplots.AxesSubplot object at 0x000001700AE65630>,\n",
       "        <matplotlib.axes._subplots.AxesSubplot object at 0x000001700AEA0940>,\n",
       "        <matplotlib.axes._subplots.AxesSubplot object at 0x000001700AEF41D0>,\n",
       "        <matplotlib.axes._subplots.AxesSubplot object at 0x000001700AF3BBE0>,\n",
       "        <matplotlib.axes._subplots.AxesSubplot object at 0x000001700AF7AA90>,\n",
       "        <matplotlib.axes._subplots.AxesSubplot object at 0x000001700AFC65F8>,\n",
       "        <matplotlib.axes._subplots.AxesSubplot object at 0x000001700AFF6390>,\n",
       "        <matplotlib.axes._subplots.AxesSubplot object at 0x000001700B03EBE0>],\n",
       "       [<matplotlib.axes._subplots.AxesSubplot object at 0x000001700B07DE10>,\n",
       "        <matplotlib.axes._subplots.AxesSubplot object at 0x000001700B0C97B8>,\n",
       "        <matplotlib.axes._subplots.AxesSubplot object at 0x000001700B0EC080>,\n",
       "        <matplotlib.axes._subplots.AxesSubplot object at 0x000001700B156160>,\n",
       "        <matplotlib.axes._subplots.AxesSubplot object at 0x000001700B19DB70>,\n",
       "        <matplotlib.axes._subplots.AxesSubplot object at 0x000001700B1DC828>,\n",
       "        <matplotlib.axes._subplots.AxesSubplot object at 0x000001700B228588>,\n",
       "        <matplotlib.axes._subplots.AxesSubplot object at 0x000001700B2682B0>],\n",
       "       [<matplotlib.axes._subplots.AxesSubplot object at 0x000001700B2AFA20>,\n",
       "        <matplotlib.axes._subplots.AxesSubplot object at 0x000001700B2EAD30>,\n",
       "        <matplotlib.axes._subplots.AxesSubplot object at 0x000001700B33A5C0>,\n",
       "        <matplotlib.axes._subplots.AxesSubplot object at 0x000001700B380FD0>,\n",
       "        <matplotlib.axes._subplots.AxesSubplot object at 0x000001700B3C0E80>,\n",
       "        <matplotlib.axes._subplots.AxesSubplot object at 0x000001700B40F9E8>,\n",
       "        <matplotlib.axes._subplots.AxesSubplot object at 0x000001700D05CB00>,\n",
       "        <matplotlib.axes._subplots.AxesSubplot object at 0x000001700D0A8C18>]], dtype=object)"
      ]
     },
     "execution_count": 5,
     "metadata": {},
     "output_type": "execute_result"
    },
    {
     "data": {
      "image/png": "[encoded data removed]",
      "text/plain": [
       "<matplotlib.figure.Figure at 0x1700943fcc0>"
      ]
     },
     "metadata": {},
     "output_type": "display_data"
    }
   ],
   "source": [
    "data.hist(figsize=(25,20))"
   ]
  },
  {
   "cell_type": "markdown",
   "metadata": {},
   "source": [
    "Посмотрим на корреляции признаков с нашей целевой переменной."
   ]
  },
  {
   "cell_type": "code",
   "execution_count": 7,
   "metadata": {},
   "outputs": [
    {
     "data": {
      "text/plain": [
       "age                           0.032164\n",
       "duration                      0.408124\n",
       "campaign                     -0.071472\n",
       "pdays                        -0.326604\n",
       "previous                      0.233072\n",
       "emp.var.rate                 -0.299526\n",
       "cons.price.idx               -0.136918\n",
       "cons.conf.idx                 0.051229\n",
       "euribor3m                    -0.308978\n",
       "nr.employed                  -0.353859\n",
       "admin._job                    0.030678\n",
       "blue-collar_job              -0.075399\n",
       "entrepreneur_job             -0.019845\n",
       "housemaid_job                -0.000737\n",
       "management_job               -0.000007\n",
       "retired_job                   0.087357\n",
       "self-employed_job            -0.007039\n",
       "services_job                 -0.030989\n",
       "student_job                   0.098924\n",
       "technician_job               -0.005728\n",
       "unemployed_job                0.014419\n",
       "unknown_job                   0.002498\n",
       "maritaldivorced              -0.009789\n",
       "maritalmarried               -0.043256\n",
       "maritalsingle                 0.053461\n",
       "maritalunknown                0.003955\n",
       "educationbasic.4y            -0.009280\n",
       "educationbasic.6y            -0.025658\n",
       "educationbasic.9y            -0.048707\n",
       "educationhigh.school         -0.004045\n",
       "                                ...   \n",
       "educationuniversity.degree    0.047182\n",
       "educationunknown              0.025589\n",
       "housing_no                   -0.011500\n",
       "housing_unknown              -0.005820\n",
       "housing_yes                   0.013259\n",
       "loan_no                       0.007918\n",
       "loan_unknown                 -0.005820\n",
       "loan_yes                     -0.005903\n",
       "cellular_contact              0.146781\n",
       "telephone_contact            -0.146781\n",
       "apr                           0.079665\n",
       "aug                          -0.013739\n",
       "dec                           0.084182\n",
       "jul                          -0.032084\n",
       "jun                          -0.006353\n",
       "mar                           0.142423\n",
       "may                          -0.106588\n",
       "nov                          -0.014832\n",
       "oct                           0.132780\n",
       "sep                           0.125204\n",
       "fri                          -0.004539\n",
       "mon                          -0.020609\n",
       "thu                           0.010291\n",
       "tue                           0.009137\n",
       "wed                           0.005832\n",
       "poutcome_failure              0.035771\n",
       "poutcome_nonexistent         -0.197625\n",
       "poutcome_success              0.317511\n",
       "default_no                    0.102057\n",
       "default_unknown              -0.101981\n",
       "dtype: float64"
      ]
     },
     "execution_count": 7,
     "metadata": {},
     "output_type": "execute_result"
    }
   ],
   "source": [
    "data[data.columns[:-1]].corrwith(data.Prediction)"
   ]
  },
  {
   "cell_type": "code",
   "execution_count": 8,
   "metadata": {
    "collapsed": true
   },
   "outputs": [],
   "source": [
    "X = data[data.columns[:-1]].values\n",
    "\n",
    "# Определяем целевую переменную\n",
    "y = data.Prediction.values"
   ]
  },
  {
   "cell_type": "code",
   "execution_count": 9,
   "metadata": {
    "collapsed": true
   },
   "outputs": [],
   "source": [
    "# Разбиваем выборку train & test\n",
    "skf = StratifiedKFold(y, n_folds=10, shuffle=True, random_state=2016)\n",
    "for train_ind, valid_ind in skf:\n",
    "    X_train, X_test = X[train_ind], X[valid_ind]\n",
    "    y_train, y_test = y[train_ind], y[valid_ind]"
   ]
  },
  {
   "cell_type": "markdown",
   "metadata": {},
   "source": [
    "Посмотрим, какое качество показывают различные алгоритмы и начнем их настройку."
   ]
  },
  {
   "cell_type": "markdown",
   "metadata": {},
   "source": [
    "## Non-configured KNN"
   ]
  },
  {
   "cell_type": "code",
   "execution_count": 10,
   "metadata": {},
   "outputs": [
    {
     "data": {
      "text/plain": [
       "0.89306842779984452"
      ]
     },
     "execution_count": 10,
     "metadata": {},
     "output_type": "execute_result"
    }
   ],
   "source": [
    "roc_auc_score(y_test, KNeighborsClassifier().fit(X_train, y_train).\n",
    "             predict_proba(X_test)[:,1])"
   ]
  },
  {
   "cell_type": "markdown",
   "metadata": {},
   "source": [
    "## Non-configured RF"
   ]
  },
  {
   "cell_type": "code",
   "execution_count": 11,
   "metadata": {},
   "outputs": [
    {
     "data": {
      "text/plain": [
       "0.91188883109513896"
      ]
     },
     "execution_count": 11,
     "metadata": {},
     "output_type": "execute_result"
    }
   ],
   "source": [
    "rf = RandomForestClassifier(n_jobs=-1, random_state=2042)\n",
    "rf.fit(X_train, y_train)\n",
    "roc_auc_score(y_test, rf.predict_proba(X_test)[:,1])"
   ]
  },
  {
   "cell_type": "markdown",
   "metadata": {},
   "source": [
    "## Non-configured GB"
   ]
  },
  {
   "cell_type": "code",
   "execution_count": 12,
   "metadata": {},
   "outputs": [
    {
     "data": {
      "text/plain": [
       "0.95122141836370133"
      ]
     },
     "execution_count": 12,
     "metadata": {},
     "output_type": "execute_result"
    }
   ],
   "source": [
    "gb = GradientBoostingClassifier(random_state=2042).fit(X_train, y_train)\n",
    "roc_auc_score(y_test, gb.predict_proba(X_test)[:,1])"
   ]
  },
  {
   "cell_type": "markdown",
   "metadata": {},
   "source": [
    "## AdaBoost"
   ]
  },
  {
   "cell_type": "code",
   "execution_count": 13,
   "metadata": {},
   "outputs": [
    {
     "data": {
      "text/plain": [
       "0.94505587604816843"
      ]
     },
     "execution_count": 13,
     "metadata": {},
     "output_type": "execute_result"
    }
   ],
   "source": [
    "ada = AdaBoostClassifier(random_state=2042, n_estimators=100, learning_rate=1.0).fit(X_train, y_train)\n",
    "roc_auc_score(y_test, ada.predict_proba(X_test)[:,1])"
   ]
  },
  {
   "cell_type": "markdown",
   "metadata": {},
   "source": [
    "## Non-configured MLP"
   ]
  },
  {
   "cell_type": "code",
   "execution_count": 14,
   "metadata": {},
   "outputs": [
    {
     "data": {
      "text/plain": [
       "0.93083007586743161"
      ]
     },
     "execution_count": 14,
     "metadata": {},
     "output_type": "execute_result"
    }
   ],
   "source": [
    "mlp = MLPClassifier().fit(X_train, y_train)\n",
    "roc_auc_score(y_test, mlp.predict_proba(X_test)[:,1])"
   ]
  },
  {
   "cell_type": "markdown",
   "metadata": {},
   "source": [
    "# Selecting Best Features"
   ]
  },
  {
   "cell_type": "code",
   "execution_count": 15,
   "metadata": {},
   "outputs": [
    {
     "data": {
      "text/html": [
       "<div>\n",
       "<table border=\"1\" class=\"dataframe\">\n",
       "  <thead>\n",
       "    <tr style=\"text-align: right;\">\n",
       "      <th></th>\n",
       "      <th>feature</th>\n",
       "      <th>importance</th>\n",
       "    </tr>\n",
       "  </thead>\n",
       "  <tbody>\n",
       "    <tr>\n",
       "      <th>1</th>\n",
       "      <td>duration</td>\n",
       "      <td>27.46%</td>\n",
       "    </tr>\n",
       "    <tr>\n",
       "      <th>0</th>\n",
       "      <td>age</td>\n",
       "      <td>7.77%</td>\n",
       "    </tr>\n",
       "    <tr>\n",
       "      <th>9</th>\n",
       "      <td>nr.employed</td>\n",
       "      <td>7.31%</td>\n",
       "    </tr>\n",
       "    <tr>\n",
       "      <th>8</th>\n",
       "      <td>euribor3m</td>\n",
       "      <td>6.87%</td>\n",
       "    </tr>\n",
       "    <tr>\n",
       "      <th>2</th>\n",
       "      <td>campaign</td>\n",
       "      <td>3.85%</td>\n",
       "    </tr>\n",
       "    <tr>\n",
       "      <th>7</th>\n",
       "      <td>cons.conf.idx</td>\n",
       "      <td>3.01%</td>\n",
       "    </tr>\n",
       "  </tbody>\n",
       "</table>\n",
       "</div>"
      ],
      "text/plain": [
       "         feature importance\n",
       "1       duration     27.46%\n",
       "0            age      7.77%\n",
       "9    nr.employed      7.31%\n",
       "8      euribor3m      6.87%\n",
       "2       campaign      3.85%\n",
       "7  cons.conf.idx      3.01%"
      ]
     },
     "execution_count": 15,
     "metadata": {},
     "output_type": "execute_result"
    }
   ],
   "source": [
    "importance = rf.feature_importances_\n",
    "importances_table = pd.DataFrame(columns=['feature','importance'])\n",
    "importances_table.feature = data.columns[:-1]\n",
    "\n",
    "for i in range(len(importances_table.feature)):\n",
    "    importances_table.importance[i] = round(importance[i]*100, 2)\n",
    "\n",
    "importances_table = importances_table.sort('importance', ascending=False)\n",
    "\n",
    "for i in range(len(importances_table.feature)):\n",
    "    importances_table.importance[i] = str(round(importance[i]*100, 2))+'%'\n",
    "\n",
    "best_features = list(importances_table.feature.values[:6])\n",
    "\n",
    "importances_table[:6]"
   ]
  },
  {
   "cell_type": "code",
   "execution_count": 326,
   "metadata": {},
   "outputs": [
    {
     "data": {
      "text/plain": [
       "['duration', 'euribor3m', 'age', 'campaign', 'nr.employed', 'cons.conf.idx']"
      ]
     },
     "execution_count": 326,
     "metadata": {},
     "output_type": "execute_result"
    }
   ],
   "source": [
    "#best_features"
   ]
  },
  {
   "cell_type": "code",
   "execution_count": 320,
   "metadata": {
    "collapsed": true
   },
   "outputs": [],
   "source": [
    "# Making dataset with only important features\n",
    "#new_data = data[best_features].join(train_target)\n",
    "\n",
    "#X = new_data[new_data.columns[:-1]]\n",
    "\n",
    "#X_train, X_test, y_train, y_test = train_test_split(new_X, y, test_size=0.4,\n",
    "#                                                    random_state=2042, stratify=y)"
   ]
  },
  {
   "cell_type": "markdown",
   "metadata": {},
   "source": [
    "Проведем настройку градиентного бустинга на тренировочных данных."
   ]
  },
  {
   "cell_type": "markdown",
   "metadata": {},
   "source": [
    "# Configuring GB"
   ]
  },
  {
   "cell_type": "code",
   "execution_count": 23,
   "metadata": {},
   "outputs": [
    {
     "data": {
      "text/plain": [
       "0.94497429386478293"
      ]
     },
     "execution_count": 23,
     "metadata": {},
     "output_type": "execute_result"
    }
   ],
   "source": [
    "gb1 = GradientBoostingClassifier(random_state=20).fit(X_train, y_train)\n",
    "roc_auc_score(y_test, gb1.predict_proba(X_test)[:,1])"
   ]
  },
  {
   "cell_type": "code",
   "execution_count": 24,
   "metadata": {},
   "outputs": [
    {
     "name": "stdout",
     "output_type": "stream",
     "text": [
      "Wall time: 1min 6s\n"
     ]
    }
   ],
   "source": [
    "%%time\n",
    "gb_param_test1 = {'n_estimators' : np.arange(20, 101, 10) }\n",
    "gsearch_gb1 = GridSearchCV(GradientBoostingClassifier(max_depth=8, min_samples_leaf=40, min_samples_split=400,\n",
    "                                                      max_features='sqrt', subsample=0.8,random_state=20),\n",
    "                                                      gb_param_test1, scoring='roc_auc', cv=5).fit(X_train, y_train)"
   ]
  },
  {
   "cell_type": "code",
   "execution_count": 25,
   "metadata": {},
   "outputs": [
    {
     "data": {
      "text/plain": [
       "([mean: 0.93566, std: 0.00441, params: {'n_estimators': 20},\n",
       "  mean: 0.93921, std: 0.00419, params: {'n_estimators': 30},\n",
       "  mean: 0.94173, std: 0.00315, params: {'n_estimators': 40},\n",
       "  mean: 0.94301, std: 0.00288, params: {'n_estimators': 50},\n",
       "  mean: 0.94381, std: 0.00292, params: {'n_estimators': 60},\n",
       "  mean: 0.94453, std: 0.00265, params: {'n_estimators': 70},\n",
       "  mean: 0.94462, std: 0.00258, params: {'n_estimators': 80},\n",
       "  mean: 0.94495, std: 0.00245, params: {'n_estimators': 90},\n",
       "  mean: 0.94517, std: 0.00217, params: {'n_estimators': 100}],\n",
       " {'n_estimators': 100},\n",
       " 0.9451651893955815)"
      ]
     },
     "execution_count": 25,
     "metadata": {},
     "output_type": "execute_result"
    }
   ],
   "source": [
    "gsearch_gb1.grid_scores_, gsearch_gb1.best_params_, gsearch_gb1.best_score_"
   ]
  },
  {
   "cell_type": "code",
   "execution_count": 26,
   "metadata": {},
   "outputs": [
    {
     "name": "stdout",
     "output_type": "stream",
     "text": [
      "Wall time: 5min 8s\n"
     ]
    }
   ],
   "source": [
    "%%time\n",
    "gb_param_test2 = {'n_estimators' : np.arange(100, 1001, 200) }\n",
    "gsearch_gb2 = GridSearchCV(GradientBoostingClassifier(max_depth=8, min_samples_leaf=40, min_samples_split=400,\n",
    "                                                      max_features='sqrt', subsample=0.8,random_state=20),\n",
    "                                                      gb_param_test2, scoring='roc_auc', cv=5).fit(X_train, y_train)"
   ]
  },
  {
   "cell_type": "code",
   "execution_count": 27,
   "metadata": {},
   "outputs": [
    {
     "data": {
      "text/plain": [
       "([mean: 0.94517, std: 0.00217, params: {'n_estimators': 100},\n",
       "  mean: 0.94431, std: 0.00242, params: {'n_estimators': 300},\n",
       "  mean: 0.94261, std: 0.00237, params: {'n_estimators': 500},\n",
       "  mean: 0.94126, std: 0.00218, params: {'n_estimators': 700},\n",
       "  mean: 0.94011, std: 0.00252, params: {'n_estimators': 900}],\n",
       " {'n_estimators': 100},\n",
       " 0.9451651893955815)"
      ]
     },
     "execution_count": 27,
     "metadata": {},
     "output_type": "execute_result"
    }
   ],
   "source": [
    "gsearch_gb2.grid_scores_, gsearch_gb2.best_params_, gsearch_gb2.best_score_"
   ]
  },
  {
   "cell_type": "code",
   "execution_count": 28,
   "metadata": {},
   "outputs": [
    {
     "name": "stdout",
     "output_type": "stream",
     "text": [
      "Wall time: 2min 18s\n"
     ]
    }
   ],
   "source": [
    "%%time\n",
    "gb_param_test3 = {'min_samples_split' : np.arange(200, 1201, 200),\n",
    "               'max_depth' : [4, 6, 7, 8]}\n",
    "\n",
    "gsearch_gb3 = GridSearchCV(GradientBoostingClassifier(n_estimators=100, max_features='sqrt',\n",
    "                                                      subsample=0.8, random_state=2042),\n",
    "                                                      gb_param_test3, scoring='roc_auc',\n",
    "                                                      cv=5, n_jobs=-1).fit(X_train, y_train)"
   ]
  },
  {
   "cell_type": "code",
   "execution_count": 29,
   "metadata": {},
   "outputs": [
    {
     "data": {
      "text/plain": [
       "([mean: 0.94258, std: 0.00265, params: {'min_samples_split': 200, 'max_depth': 4},\n",
       "  mean: 0.94273, std: 0.00224, params: {'min_samples_split': 400, 'max_depth': 4},\n",
       "  mean: 0.94206, std: 0.00255, params: {'min_samples_split': 600, 'max_depth': 4},\n",
       "  mean: 0.94132, std: 0.00255, params: {'min_samples_split': 800, 'max_depth': 4},\n",
       "  mean: 0.94104, std: 0.00237, params: {'min_samples_split': 1000, 'max_depth': 4},\n",
       "  mean: 0.94086, std: 0.00281, params: {'min_samples_split': 1200, 'max_depth': 4},\n",
       "  mean: 0.94455, std: 0.00234, params: {'min_samples_split': 200, 'max_depth': 6},\n",
       "  mean: 0.94503, std: 0.00221, params: {'min_samples_split': 400, 'max_depth': 6},\n",
       "  mean: 0.94424, std: 0.00214, params: {'min_samples_split': 600, 'max_depth': 6},\n",
       "  mean: 0.94393, std: 0.00305, params: {'min_samples_split': 800, 'max_depth': 6},\n",
       "  mean: 0.94381, std: 0.00233, params: {'min_samples_split': 1000, 'max_depth': 6},\n",
       "  mean: 0.94330, std: 0.00285, params: {'min_samples_split': 1200, 'max_depth': 6},\n",
       "  mean: 0.94500, std: 0.00116, params: {'min_samples_split': 200, 'max_depth': 7},\n",
       "  mean: 0.94491, std: 0.00199, params: {'min_samples_split': 400, 'max_depth': 7},\n",
       "  mean: 0.94475, std: 0.00224, params: {'min_samples_split': 600, 'max_depth': 7},\n",
       "  mean: 0.94444, std: 0.00198, params: {'min_samples_split': 800, 'max_depth': 7},\n",
       "  mean: 0.94437, std: 0.00274, params: {'min_samples_split': 1000, 'max_depth': 7},\n",
       "  mean: 0.94419, std: 0.00264, params: {'min_samples_split': 1200, 'max_depth': 7},\n",
       "  mean: 0.94423, std: 0.00098, params: {'min_samples_split': 200, 'max_depth': 8},\n",
       "  mean: 0.94509, std: 0.00226, params: {'min_samples_split': 400, 'max_depth': 8},\n",
       "  mean: 0.94452, std: 0.00238, params: {'min_samples_split': 600, 'max_depth': 8},\n",
       "  mean: 0.94425, std: 0.00252, params: {'min_samples_split': 800, 'max_depth': 8},\n",
       "  mean: 0.94429, std: 0.00286, params: {'min_samples_split': 1000, 'max_depth': 8},\n",
       "  mean: 0.94409, std: 0.00235, params: {'min_samples_split': 1200, 'max_depth': 8}],\n",
       " {'max_depth': 8, 'min_samples_split': 400},\n",
       " 0.9450894332329329)"
      ]
     },
     "execution_count": 29,
     "metadata": {},
     "output_type": "execute_result"
    }
   ],
   "source": [
    "gsearch_gb3.grid_scores_, gsearch_gb3.best_params_, gsearch_gb3.best_score_"
   ]
  },
  {
   "cell_type": "code",
   "execution_count": 30,
   "metadata": {},
   "outputs": [
    {
     "name": "stdout",
     "output_type": "stream",
     "text": [
      "Fitting 5 folds for each of 7 candidates, totalling 35 fits\n"
     ]
    },
    {
     "name": "stderr",
     "output_type": "stream",
     "text": [
      "[Parallel(n_jobs=-1)]: Done  35 out of  35 | elapsed:   52.8s finished\n"
     ]
    },
    {
     "name": "stdout",
     "output_type": "stream",
     "text": [
      "Wall time: 56.8 s\n"
     ]
    }
   ],
   "source": [
    "%%time\n",
    "gb_param_test4 = {'min_samples_leaf' : np.arange(30, 151, 20)}\n",
    "\n",
    "gsearch_gb4 = GridSearchCV(GradientBoostingClassifier(n_estimators=100, max_features='sqrt', max_depth=8,\n",
    "                                                      min_samples_split=400, subsample=0.8,\n",
    "                                                      random_state=2042),gb_param_test4,\n",
    "                           scoring='roc_auc', cv=5, n_jobs=-1, verbose=True).fit(X_train, y_train)"
   ]
  },
  {
   "cell_type": "code",
   "execution_count": 31,
   "metadata": {},
   "outputs": [
    {
     "data": {
      "text/plain": [
       "([mean: 0.94524, std: 0.00266, params: {'min_samples_leaf': 30},\n",
       "  mean: 0.94458, std: 0.00235, params: {'min_samples_leaf': 50},\n",
       "  mean: 0.94477, std: 0.00280, params: {'min_samples_leaf': 70},\n",
       "  mean: 0.94438, std: 0.00282, params: {'min_samples_leaf': 90},\n",
       "  mean: 0.94394, std: 0.00235, params: {'min_samples_leaf': 110},\n",
       "  mean: 0.94367, std: 0.00302, params: {'min_samples_leaf': 130},\n",
       "  mean: 0.94401, std: 0.00296, params: {'min_samples_leaf': 150}],\n",
       " {'min_samples_leaf': 30},\n",
       " 0.9452387985326133)"
      ]
     },
     "execution_count": 31,
     "metadata": {},
     "output_type": "execute_result"
    }
   ],
   "source": [
    "gsearch_gb4.grid_scores_, gsearch_gb4.best_params_, gsearch_gb4.best_score_"
   ]
  },
  {
   "cell_type": "code",
   "execution_count": 34,
   "metadata": {},
   "outputs": [
    {
     "name": "stdout",
     "output_type": "stream",
     "text": [
      "Wall time: 41.4 s\n"
     ]
    }
   ],
   "source": [
    "%%time\n",
    "gb_param_test5 = {'subsample' : [0.6, 0.7, 0.75, 0.8, 0.85]}\n",
    "\n",
    "gsearch_gb5 = GridSearchCV(GradientBoostingClassifier(n_estimators=100, max_depth=8, min_samples_leaf=30,\n",
    "                                                    min_samples_split=400, max_features='sqrt', random_state=2042),\n",
    "                                                      gb_param_test5, scoring='roc_auc',\n",
    "                           cv=5, n_jobs=-1).fit(X_train, y_train)"
   ]
  },
  {
   "cell_type": "code",
   "execution_count": 35,
   "metadata": {},
   "outputs": [
    {
     "data": {
      "text/plain": [
       "([mean: 0.94336, std: 0.00292, params: {'subsample': 0.6},\n",
       "  mean: 0.94435, std: 0.00251, params: {'subsample': 0.7},\n",
       "  mean: 0.94505, std: 0.00289, params: {'subsample': 0.75},\n",
       "  mean: 0.94524, std: 0.00266, params: {'subsample': 0.8},\n",
       "  mean: 0.94550, std: 0.00213, params: {'subsample': 0.85}],\n",
       " {'subsample': 0.85},\n",
       " 0.9454995333001862)"
      ]
     },
     "execution_count": 35,
     "metadata": {},
     "output_type": "execute_result"
    }
   ],
   "source": [
    "gsearch_gb5.grid_scores_, gsearch_gb5.best_params_, gsearch_gb5.best_score_"
   ]
  },
  {
   "cell_type": "code",
   "execution_count": 19,
   "metadata": {},
   "outputs": [
    {
     "name": "stdout",
     "output_type": "stream",
     "text": [
      "Wall time: 3.68 s\n"
     ]
    }
   ],
   "source": [
    "%%time\n",
    "tuned_gb1 = GradientBoostingClassifier(n_estimators=100, max_depth=8, min_samples_leaf=30, learning_rate=0.1,\n",
    "                                                    min_samples_split=400, max_features='sqrt',\n",
    "                                       random_state=2042, subsample=0.85).fit(X_train, y_train)"
   ]
  },
  {
   "cell_type": "code",
   "execution_count": 20,
   "metadata": {},
   "outputs": [
    {
     "data": {
      "text/plain": [
       "0.95006488661917077"
      ]
     },
     "execution_count": 20,
     "metadata": {},
     "output_type": "execute_result"
    }
   ],
   "source": [
    "roc_auc_score(y_test, tuned_gb1.predict_proba(X_test)[:,1])"
   ]
  },
  {
   "cell_type": "code",
   "execution_count": 25,
   "metadata": {
    "collapsed": true
   },
   "outputs": [],
   "source": [
    "comp1 = VotingClassifier(estimators=(('gb', tuned_gb1), ('ada', ada)), voting='soft').fit(X_train, y_train)"
   ]
  },
  {
   "cell_type": "code",
   "execution_count": 26,
   "metadata": {},
   "outputs": [
    {
     "data": {
      "text/plain": [
       "0.95063231616333566"
      ]
     },
     "execution_count": 26,
     "metadata": {},
     "output_type": "execute_result"
    }
   ],
   "source": [
    "roc_auc_score(y_test, comp1.predict_proba(X_test)[:,1])"
   ]
  },
  {
   "cell_type": "markdown",
   "metadata": {},
   "source": [
    "Попытаемся добиться лучшего качества, попробовав добавить исскуственных объектов с целью сделать выборку сбалансированнее. Для этого воспользуемся RandomOverSampler."
   ]
  },
  {
   "cell_type": "markdown",
   "metadata": {},
   "source": [
    "# Over Sampling Train Data"
   ]
  },
  {
   "cell_type": "code",
   "execution_count": 27,
   "metadata": {
    "collapsed": true
   },
   "outputs": [],
   "source": [
    "from imblearn.over_sampling import RandomOverSampler\n",
    "verbose = False\n",
    "ratio = 'auto'\n",
    "# 'Random over-sampling'\n",
    "OS = RandomOverSampler(ratio=ratio)\n",
    "\n",
    "osX_train1, osy_train1 = OS.fit_sample(X_train, y_train.reshape(-1, 1))"
   ]
  },
  {
   "cell_type": "markdown",
   "metadata": {},
   "source": [
    "## Random Forest on OS Train"
   ]
  },
  {
   "cell_type": "code",
   "execution_count": 65,
   "metadata": {},
   "outputs": [
    {
     "data": {
      "text/plain": [
       "0.87504132192375983"
      ]
     },
     "execution_count": 65,
     "metadata": {},
     "output_type": "execute_result"
    }
   ],
   "source": [
    "os_Xtrain_rf = RandomForestClassifier(n_estimators=500, min_samples_split=400, min_samples_leaf=50,\n",
    "                                   max_depth=8, max_features='sqrt', n_jobs=-1, random_state=2042)\n",
    "os_rf.fit(osX_train1, osy_train1)\n",
    "roc_auc_score(y_test, os_rf.predict_proba(X_test)[:,1])"
   ]
  },
  {
   "cell_type": "markdown",
   "metadata": {},
   "source": [
    "## Grad Boost on OS Train"
   ]
  },
  {
   "cell_type": "code",
   "execution_count": 40,
   "metadata": {},
   "outputs": [
    {
     "data": {
      "text/plain": [
       "0.94530518656080031"
      ]
     },
     "execution_count": 40,
     "metadata": {},
     "output_type": "execute_result"
    }
   ],
   "source": [
    "os_Xtrain_gb = GradientBoostingClassifier(n_estimators=400, min_samples_split=400, min_samples_leaf=50,\n",
    "                                   max_depth=8, max_features='sqrt', subsample=0.8,\n",
    "                                   learning_rate=0.01, random_state=2042).fit(osX_train1, osy_train1)\n",
    "roc_auc_score(y_test, os_Xtrain_gb.predict_proba(X_test)[:,1])"
   ]
  },
  {
   "cell_type": "markdown",
   "metadata": {},
   "source": [
    "## MLP on OS Train"
   ]
  },
  {
   "cell_type": "code",
   "execution_count": 123,
   "metadata": {},
   "outputs": [
    {
     "data": {
      "text/plain": [
       "0.93449997898409087"
      ]
     },
     "execution_count": 123,
     "metadata": {},
     "output_type": "execute_result"
    }
   ],
   "source": [
    "os_Xtrain_mlp = MLPClassifier(hidden_layer_sizes=(175, 150)).fit(osX_train1, osy_train1)\n",
    "roc_auc_score(y_test, os_Xtrain_mlp.predict_proba(X_test)[:,1])"
   ]
  },
  {
   "cell_type": "markdown",
   "metadata": {},
   "source": [
    "Проведем настройку случайного леса и градиентного бустинга на сбалансированных данных."
   ]
  },
  {
   "cell_type": "markdown",
   "metadata": {},
   "source": [
    "# Trying to configure RF on os train"
   ]
  },
  {
   "cell_type": "code",
   "execution_count": 159,
   "metadata": {},
   "outputs": [
    {
     "data": {
      "text/plain": [
       "0.92050827741927033"
      ]
     },
     "execution_count": 159,
     "metadata": {},
     "output_type": "execute_result"
    }
   ],
   "source": [
    "rf_OSX_train = RandomForestClassifier(n_jobs=-1).fit(osX_train1, osy_train1)\n",
    "roc_auc_score(y_test, rf_OSX_train.predict_proba(X_test)[:,1])"
   ]
  },
  {
   "cell_type": "code",
   "execution_count": 104,
   "metadata": {},
   "outputs": [
    {
     "name": "stdout",
     "output_type": "stream",
     "text": [
      "Wall time: 43.4 s\n"
     ]
    }
   ],
   "source": [
    "%%time\n",
    "rf_param_test1 = {'n_estimators' : np.arange(20, 128, 20) }\n",
    "\n",
    "gsearch_rf1 = GridSearchCV(RandomForestClassifier(n_jobs=-1, random_state=2042, min_samples_split=400,\n",
    "                                                  min_samples_leaf=50, max_depth=8, max_features='sqrt'),\n",
    "                           rf_param_test1, scoring='roc_auc', cv=5).fit(osX_train1, osy_train1)"
   ]
  },
  {
   "cell_type": "code",
   "execution_count": 105,
   "metadata": {},
   "outputs": [
    {
     "data": {
      "text/plain": [
       "([mean: 0.93309, std: 0.00403, params: {'n_estimators': 20},\n",
       "  mean: 0.93482, std: 0.00345, params: {'n_estimators': 40},\n",
       "  mean: 0.93464, std: 0.00284, params: {'n_estimators': 60},\n",
       "  mean: 0.93405, std: 0.00320, params: {'n_estimators': 80},\n",
       "  mean: 0.93353, std: 0.00324, params: {'n_estimators': 100},\n",
       "  mean: 0.93364, std: 0.00337, params: {'n_estimators': 120}],\n",
       " {'n_estimators': 40},\n",
       " 0.9348245170606972)"
      ]
     },
     "execution_count": 105,
     "metadata": {},
     "output_type": "execute_result"
    }
   ],
   "source": [
    "gsearch_rf1.grid_scores_, gsearch_rf1.best_params_, gsearch_rf1.best_score_"
   ]
  },
  {
   "cell_type": "code",
   "execution_count": 106,
   "metadata": {},
   "outputs": [
    {
     "name": "stdout",
     "output_type": "stream",
     "text": [
      "Wall time: 1min 28s\n"
     ]
    }
   ],
   "source": [
    "%%time\n",
    "rf_param_test3 = {'min_samples_split' : np.arange(200, 601, 100),\n",
    "               'max_depth' : [6, 7, 8, 10]}\n",
    "\n",
    "gsearch_rf3 = GridSearchCV(RandomForestClassifier(n_jobs=-1, n_estimators=40, random_state=2042, max_features='sqrt'),\n",
    "                           rf_param_test3, scoring='roc_auc', cv=5).fit(osX_train1, osy_train1)"
   ]
  },
  {
   "cell_type": "code",
   "execution_count": 107,
   "metadata": {},
   "outputs": [
    {
     "data": {
      "text/plain": [
       "([mean: 0.92738, std: 0.00453, params: {'min_samples_split': 200, 'max_depth': 6},\n",
       "  mean: 0.92683, std: 0.00471, params: {'min_samples_split': 300, 'max_depth': 6},\n",
       "  mean: 0.92450, std: 0.00480, params: {'min_samples_split': 400, 'max_depth': 6},\n",
       "  mean: 0.92456, std: 0.00495, params: {'min_samples_split': 500, 'max_depth': 6},\n",
       "  mean: 0.92381, std: 0.00428, params: {'min_samples_split': 600, 'max_depth': 6},\n",
       "  mean: 0.93335, std: 0.00386, params: {'min_samples_split': 200, 'max_depth': 7},\n",
       "  mean: 0.93039, std: 0.00249, params: {'min_samples_split': 300, 'max_depth': 7},\n",
       "  mean: 0.92932, std: 0.00480, params: {'min_samples_split': 400, 'max_depth': 7},\n",
       "  mean: 0.92976, std: 0.00477, params: {'min_samples_split': 500, 'max_depth': 7},\n",
       "  mean: 0.92979, std: 0.00626, params: {'min_samples_split': 600, 'max_depth': 7},\n",
       "  mean: 0.93910, std: 0.00357, params: {'min_samples_split': 200, 'max_depth': 8},\n",
       "  mean: 0.93582, std: 0.00322, params: {'min_samples_split': 300, 'max_depth': 8},\n",
       "  mean: 0.93718, std: 0.00326, params: {'min_samples_split': 400, 'max_depth': 8},\n",
       "  mean: 0.93460, std: 0.00434, params: {'min_samples_split': 500, 'max_depth': 8},\n",
       "  mean: 0.93485, std: 0.00458, params: {'min_samples_split': 600, 'max_depth': 8},\n",
       "  mean: 0.94530, std: 0.00430, params: {'min_samples_split': 200, 'max_depth': 10},\n",
       "  mean: 0.94158, std: 0.00360, params: {'min_samples_split': 300, 'max_depth': 10},\n",
       "  mean: 0.93882, std: 0.00309, params: {'min_samples_split': 400, 'max_depth': 10},\n",
       "  mean: 0.93816, std: 0.00373, params: {'min_samples_split': 500, 'max_depth': 10},\n",
       "  mean: 0.93746, std: 0.00367, params: {'min_samples_split': 600, 'max_depth': 10}],\n",
       " {'max_depth': 10, 'min_samples_split': 200},\n",
       " 0.945297684986792)"
      ]
     },
     "execution_count": 107,
     "metadata": {},
     "output_type": "execute_result"
    }
   ],
   "source": [
    "gsearch_rf3.grid_scores_, gsearch_rf3.best_params_, gsearch_rf3.best_score_"
   ]
  },
  {
   "cell_type": "code",
   "execution_count": 108,
   "metadata": {},
   "outputs": [
    {
     "name": "stdout",
     "output_type": "stream",
     "text": [
      "Wall time: 24.8 s\n"
     ]
    }
   ],
   "source": [
    "%%time\n",
    "rf_param_test4 = {'min_samples_leaf' : np.arange(30, 80, 10)}\n",
    "\n",
    "gsearch_rf4 = GridSearchCV(RandomForestClassifier(n_jobs=-1, min_samples_split=200, max_depth=10,\n",
    "                                                  n_estimators=40, random_state=2042, max_features='sqrt'),\n",
    "                           rf_param_test4, scoring='roc_auc', cv=5).fit(osX_train1, osy_train1)"
   ]
  },
  {
   "cell_type": "code",
   "execution_count": 109,
   "metadata": {},
   "outputs": [
    {
     "data": {
      "text/plain": [
       "([mean: 0.94227, std: 0.00447, params: {'min_samples_leaf': 30},\n",
       "  mean: 0.94239, std: 0.00406, params: {'min_samples_leaf': 40},\n",
       "  mean: 0.94183, std: 0.00475, params: {'min_samples_leaf': 50},\n",
       "  mean: 0.93991, std: 0.00525, params: {'min_samples_leaf': 60},\n",
       "  mean: 0.93983, std: 0.00493, params: {'min_samples_leaf': 70}],\n",
       " {'min_samples_leaf': 40},\n",
       " 0.9423894752664023)"
      ]
     },
     "execution_count": 109,
     "metadata": {},
     "output_type": "execute_result"
    }
   ],
   "source": [
    "gsearch_rf4.grid_scores_, gsearch_rf4.best_params_, gsearch_rf4.best_score_"
   ]
  },
  {
   "cell_type": "code",
   "execution_count": 110,
   "metadata": {},
   "outputs": [
    {
     "name": "stdout",
     "output_type": "stream",
     "text": [
      "Wall time: 10.7 s\n"
     ]
    }
   ],
   "source": [
    "%%time\n",
    "rf_param_test5 = {'max_features' : ['log2', 'sqrt']}\n",
    "\n",
    "gsearch_rf5 = GridSearchCV(RandomForestClassifier(n_jobs=-1, n_estimators=40, max_depth=12, min_samples_leaf=30,\n",
    "                                                  min_samples_split=200, random_state=2042)\n",
    "                                                 ,rf_param_test5, scoring='roc_auc', cv=5).fit(osX_train1, osy_train1)"
   ]
  },
  {
   "cell_type": "code",
   "execution_count": 111,
   "metadata": {},
   "outputs": [
    {
     "data": {
      "text/plain": [
       "([mean: 0.93648, std: 0.00444, params: {'max_features': 'log2'},\n",
       "  mean: 0.94633, std: 0.00337, params: {'max_features': 'sqrt'}],\n",
       " {'max_features': 'sqrt'},\n",
       " 0.9463347420775504)"
      ]
     },
     "execution_count": 111,
     "metadata": {},
     "output_type": "execute_result"
    }
   ],
   "source": [
    "gsearch_rf5.grid_scores_, gsearch_rf5.best_params_, gsearch_rf5.best_score_"
   ]
  },
  {
   "cell_type": "code",
   "execution_count": 17,
   "metadata": {},
   "outputs": [
    {
     "data": {
      "text/plain": [
       "0.93885946661622843"
      ]
     },
     "execution_count": 17,
     "metadata": {},
     "output_type": "execute_result"
    }
   ],
   "source": [
    "tuned_rf_withOS_Xtrain = RandomForestClassifier(n_jobs=-1, n_estimators=1000, max_depth=10,\n",
    "                                                min_samples_leaf=30, min_samples_split=200, random_state=2042,\n",
    "                                                max_features='sqrt').fit(osX_train1, osy_train1)\n",
    "\n",
    "roc_auc_score(y_test, tuned_rf_withOS_Xtrain.predict_proba(X_test)[:,1])"
   ]
  },
  {
   "cell_type": "code",
   "execution_count": 361,
   "metadata": {
    "collapsed": true
   },
   "outputs": [],
   "source": [
    "# without OS\n",
    "tuned_rf = RandomForestClassifier(n_jobs=-1, n_estimators=100, max_depth=12,\n",
    "                                                min_samples_leaf=30, min_samples_split=200, random_state=2042,\n",
    "                                                max_features='sqrt').fit(X_train, y_train)"
   ]
  },
  {
   "cell_type": "code",
   "execution_count": 362,
   "metadata": {},
   "outputs": [
    {
     "data": {
      "text/plain": [
       "0.93360310077067388"
      ]
     },
     "execution_count": 362,
     "metadata": {},
     "output_type": "execute_result"
    }
   ],
   "source": [
    "roc_auc_score(y_test, tuned_rf.predict_proba(X_test)[:,1])"
   ]
  },
  {
   "cell_type": "markdown",
   "metadata": {},
   "source": [
    "# Trying to configure GB on os train"
   ]
  },
  {
   "cell_type": "code",
   "execution_count": 189,
   "metadata": {},
   "outputs": [
    {
     "data": {
      "text/plain": [
       "0.94606572957466428"
      ]
     },
     "execution_count": 189,
     "metadata": {},
     "output_type": "execute_result"
    }
   ],
   "source": [
    "gb_OSX_train = GradientBoostingClassifier(random_state=2042).fit(osX_train1, osy_train1)\n",
    "roc_auc_score(y_test, gb_OSX_train.predict_proba(X_test)[:,1])"
   ]
  },
  {
   "cell_type": "code",
   "execution_count": 41,
   "metadata": {},
   "outputs": [
    {
     "name": "stdout",
     "output_type": "stream",
     "text": [
      "Wall time: 1min 36s\n"
     ]
    }
   ],
   "source": [
    "%%time\n",
    "gb_param_test1 = {'n_estimators' : np.arange(20, 81, 10) }\n",
    "gsearch_gb1 = GridSearchCV(GradientBoostingClassifier(max_depth=8, min_samples_leaf=40, min_samples_split=400,\n",
    "                                                      max_features='sqrt', subsample=0.8,random_state=2042),\n",
    "                                                      gb_param_test1, scoring='roc_auc', cv=5).fit(osX_train1, osy_train1)"
   ]
  },
  {
   "cell_type": "code",
   "execution_count": 42,
   "metadata": {},
   "outputs": [
    {
     "data": {
      "text/plain": [
       "([mean: 0.94863, std: 0.00379, params: {'n_estimators': 20},\n",
       "  mean: 0.95195, std: 0.00386, params: {'n_estimators': 30},\n",
       "  mean: 0.95500, std: 0.00372, params: {'n_estimators': 40},\n",
       "  mean: 0.95705, std: 0.00309, params: {'n_estimators': 50},\n",
       "  mean: 0.95912, std: 0.00280, params: {'n_estimators': 60},\n",
       "  mean: 0.96062, std: 0.00289, params: {'n_estimators': 70},\n",
       "  mean: 0.96171, std: 0.00271, params: {'n_estimators': 80}],\n",
       " {'n_estimators': 80},\n",
       " 0.9617114144042802)"
      ]
     },
     "execution_count": 42,
     "metadata": {},
     "output_type": "execute_result"
    }
   ],
   "source": [
    "gsearch_gb1.grid_scores_, gsearch_gb1.best_params_, gsearch_gb1.best_score_"
   ]
  },
  {
   "cell_type": "code",
   "execution_count": 43,
   "metadata": {},
   "outputs": [
    {
     "name": "stdout",
     "output_type": "stream",
     "text": [
      "Wall time: 4min 34s\n"
     ]
    }
   ],
   "source": [
    "%%time\n",
    "gb_param_test3 = {'min_samples_split' : np.arange(200, 1001, 200),\n",
    "               'max_depth' : [5, 6, 7, 8, 10]}\n",
    "\n",
    "gsearch_gb3 = GridSearchCV(GradientBoostingClassifier(n_estimators=80, max_features='sqrt',\n",
    "                                                      subsample=0.8, random_state=2042,\n",
    "                                                     min_samples_leaf=50),\n",
    "                                                      gb_param_test3, scoring='roc_auc',\n",
    "                                                      cv=5, n_jobs=-1).fit(osX_train1, osy_train1)"
   ]
  },
  {
   "cell_type": "code",
   "execution_count": 44,
   "metadata": {},
   "outputs": [
    {
     "data": {
      "text/plain": [
       "([mean: 0.95422, std: 0.00292, params: {'min_samples_split': 200, 'max_depth': 5},\n",
       "  mean: 0.95353, std: 0.00264, params: {'min_samples_split': 400, 'max_depth': 5},\n",
       "  mean: 0.95253, std: 0.00304, params: {'min_samples_split': 600, 'max_depth': 5},\n",
       "  mean: 0.95248, std: 0.00300, params: {'min_samples_split': 800, 'max_depth': 5},\n",
       "  mean: 0.95157, std: 0.00337, params: {'min_samples_split': 1000, 'max_depth': 5},\n",
       "  mean: 0.95735, std: 0.00305, params: {'min_samples_split': 200, 'max_depth': 6},\n",
       "  mean: 0.95630, std: 0.00280, params: {'min_samples_split': 400, 'max_depth': 6},\n",
       "  mean: 0.95571, std: 0.00328, params: {'min_samples_split': 600, 'max_depth': 6},\n",
       "  mean: 0.95491, std: 0.00317, params: {'min_samples_split': 800, 'max_depth': 6},\n",
       "  mean: 0.95367, std: 0.00351, params: {'min_samples_split': 1000, 'max_depth': 6},\n",
       "  mean: 0.96078, std: 0.00267, params: {'min_samples_split': 200, 'max_depth': 7},\n",
       "  mean: 0.95912, std: 0.00314, params: {'min_samples_split': 400, 'max_depth': 7},\n",
       "  mean: 0.95736, std: 0.00247, params: {'min_samples_split': 600, 'max_depth': 7},\n",
       "  mean: 0.95683, std: 0.00271, params: {'min_samples_split': 800, 'max_depth': 7},\n",
       "  mean: 0.95575, std: 0.00335, params: {'min_samples_split': 1000, 'max_depth': 7},\n",
       "  mean: 0.96363, std: 0.00258, params: {'min_samples_split': 200, 'max_depth': 8},\n",
       "  mean: 0.96153, std: 0.00199, params: {'min_samples_split': 400, 'max_depth': 8},\n",
       "  mean: 0.95980, std: 0.00259, params: {'min_samples_split': 600, 'max_depth': 8},\n",
       "  mean: 0.95883, std: 0.00282, params: {'min_samples_split': 800, 'max_depth': 8},\n",
       "  mean: 0.95736, std: 0.00288, params: {'min_samples_split': 1000, 'max_depth': 8},\n",
       "  mean: 0.96836, std: 0.00194, params: {'min_samples_split': 200, 'max_depth': 10},\n",
       "  mean: 0.96502, std: 0.00224, params: {'min_samples_split': 400, 'max_depth': 10},\n",
       "  mean: 0.96242, std: 0.00253, params: {'min_samples_split': 600, 'max_depth': 10},\n",
       "  mean: 0.96068, std: 0.00264, params: {'min_samples_split': 800, 'max_depth': 10},\n",
       "  mean: 0.95911, std: 0.00237, params: {'min_samples_split': 1000, 'max_depth': 10}],\n",
       " {'max_depth': 10, 'min_samples_split': 200},\n",
       " 0.9683600785271164)"
      ]
     },
     "execution_count": 44,
     "metadata": {},
     "output_type": "execute_result"
    }
   ],
   "source": [
    "gsearch_gb3.grid_scores_, gsearch_gb3.best_params_, gsearch_gb3.best_score_"
   ]
  },
  {
   "cell_type": "code",
   "execution_count": 45,
   "metadata": {},
   "outputs": [
    {
     "name": "stdout",
     "output_type": "stream",
     "text": [
      "Wall time: 1min 52s\n"
     ]
    }
   ],
   "source": [
    "%%time\n",
    "gb_param_test4 = {'min_samples_leaf' : [20, 40, 70, 100, 500, 1000]}\n",
    "\n",
    "gsearch_gb4 = GridSearchCV(GradientBoostingClassifier(n_estimators=100, max_features='sqrt', max_depth=10,\n",
    "                                                      min_samples_split=200, subsample=0.8,\n",
    "                                                      random_state=2042),gb_param_test4,\n",
    "                           scoring='roc_auc', cv=5, n_jobs=-1).fit(osX_train1, osy_train1)"
   ]
  },
  {
   "cell_type": "code",
   "execution_count": 46,
   "metadata": {},
   "outputs": [
    {
     "data": {
      "text/plain": [
       "([mean: 0.97339, std: 0.00178, params: {'min_samples_leaf': 20},\n",
       "  mean: 0.97165, std: 0.00195, params: {'min_samples_leaf': 40},\n",
       "  mean: 0.96958, std: 0.00212, params: {'min_samples_leaf': 70},\n",
       "  mean: 0.96731, std: 0.00211, params: {'min_samples_leaf': 100},\n",
       "  mean: 0.95424, std: 0.00254, params: {'min_samples_leaf': 500},\n",
       "  mean: 0.94820, std: 0.00282, params: {'min_samples_leaf': 1000}],\n",
       " {'min_samples_leaf': 20},\n",
       " 0.9733902910332606)"
      ]
     },
     "execution_count": 46,
     "metadata": {},
     "output_type": "execute_result"
    }
   ],
   "source": [
    "gsearch_gb4.grid_scores_, gsearch_gb4.best_params_, gsearch_gb4.best_score_"
   ]
  },
  {
   "cell_type": "code",
   "execution_count": 47,
   "metadata": {},
   "outputs": [
    {
     "name": "stdout",
     "output_type": "stream",
     "text": [
      "Wall time: 1min 51s\n"
     ]
    }
   ],
   "source": [
    "%%time\n",
    "gb_param_test5 = {'subsample' : [0.6, 0.7, 0.8, 0.9, 1.0]}\n",
    "\n",
    "gsearch_gb5 = GridSearchCV(GradientBoostingClassifier(n_estimators=100, max_depth=10, min_samples_leaf=20,\n",
    "                                                    min_samples_split=200, max_features='sqrt', random_state=2042),\n",
    "                                                      gb_param_test5, scoring='roc_auc',\n",
    "                           cv=5, n_jobs=-1).fit(osX_train1, osy_train1)"
   ]
  },
  {
   "cell_type": "code",
   "execution_count": 48,
   "metadata": {},
   "outputs": [
    {
     "data": {
      "text/plain": [
       "([mean: 0.97126, std: 0.00248, params: {'subsample': 0.6},\n",
       "  mean: 0.97178, std: 0.00167, params: {'subsample': 0.7},\n",
       "  mean: 0.97339, std: 0.00178, params: {'subsample': 0.8},\n",
       "  mean: 0.97428, std: 0.00223, params: {'subsample': 0.9},\n",
       "  mean: 0.97479, std: 0.00233, params: {'subsample': 1.0}],\n",
       " {'subsample': 1.0},\n",
       " 0.9747870595345428)"
      ]
     },
     "execution_count": 48,
     "metadata": {},
     "output_type": "execute_result"
    }
   ],
   "source": [
    "gsearch_gb5.grid_scores_, gsearch_gb5.best_params_, gsearch_gb5.best_score_"
   ]
  },
  {
   "cell_type": "code",
   "execution_count": 8,
   "metadata": {},
   "outputs": [
    {
     "name": "stdout",
     "output_type": "stream",
     "text": [
      "Wall time: 3min 2s\n"
     ]
    }
   ],
   "source": [
    "%%time\n",
    "tuned_gb_withOS_Xtrain = GradientBoostingClassifier(n_estimators=1500, max_depth=10, min_samples_leaf=20,\n",
    "                                                    min_samples_split=200, max_features='sqrt', subsample=0.8,\n",
    "                                            learning_rate=0.005, random_state=2016, warm_start=True).fit(osX_train1, osy_train1)"
   ]
  },
  {
   "cell_type": "code",
   "execution_count": 100,
   "metadata": {},
   "outputs": [
    {
     "data": {
      "text/plain": [
       "0.95137049996847611"
      ]
     },
     "execution_count": 100,
     "metadata": {},
     "output_type": "execute_result"
    }
   ],
   "source": [
    "roc_auc_score(y_test, tuned_gb_withOS_Xtrain.predict_proba(X_test)[:,1])"
   ]
  },
  {
   "cell_type": "code",
   "execution_count": 28,
   "metadata": {},
   "outputs": [
    {
     "name": "stdout",
     "output_type": "stream",
     "text": [
      "Wall time: 1min 12s\n"
     ]
    }
   ],
   "source": [
    "%%time\n",
    "\n",
    "# without OS\n",
    "tuned_gb = GradientBoostingClassifier(n_estimators=1500, max_depth=10, min_samples_leaf=20,\n",
    "                                                    min_samples_split=200, max_features='sqrt', subsample=0.8,\n",
    "                                                    learning_rate=0.005, random_state=2042).fit(X_train, y_train)"
   ]
  },
  {
   "cell_type": "code",
   "execution_count": 29,
   "metadata": {},
   "outputs": [
    {
     "data": {
      "text/plain": [
       "0.95151892482609346"
      ]
     },
     "execution_count": 29,
     "metadata": {},
     "output_type": "execute_result"
    }
   ],
   "source": [
    "roc_auc_score(y_test, tuned_gb.predict_proba(X_test)[:,1])"
   ]
  },
  {
   "cell_type": "markdown",
   "metadata": {},
   "source": [
    "Попробуем исопльзовать композицию случайного леса и градиентного бустинга. Возможно, это поможет добиться лучших результатов."
   ]
  },
  {
   "cell_type": "markdown",
   "metadata": {},
   "source": [
    "# Composition of tuned models on os train"
   ]
  },
  {
   "cell_type": "code",
   "execution_count": 115,
   "metadata": {},
   "outputs": [
    {
     "data": {
      "text/plain": [
       "0.94909290082592523"
      ]
     },
     "execution_count": 115,
     "metadata": {},
     "output_type": "execute_result"
    }
   ],
   "source": [
    "os_Xtrain_eclf_tuned_models = VotingClassifier(estimators=[('gb', tuned_gb_withOS_Xtrain), ('rf', tuned_rf_withOS_Xtrain)],\n",
    "                                  voting ='soft').fit(osX_train1, osy_train1)\n",
    "\n",
    "roc_auc_score(y_test, os_Xtrain_eclf_tuned_models.predict_proba(X_test)[:,1])"
   ]
  },
  {
   "cell_type": "code",
   "execution_count": 31,
   "metadata": {},
   "outputs": [
    {
     "data": {
      "text/plain": [
       "0.9522557951369186"
      ]
     },
     "execution_count": 31,
     "metadata": {},
     "output_type": "execute_result"
    }
   ],
   "source": [
    "# without OS\n",
    "tuned_gb_and_ada = VotingClassifier(estimators=[('gb', tuned_gb), ('ada', ada)],\n",
    "                                  voting ='soft').fit(X_train, y_train)\n",
    "\n",
    "roc_auc_score(y_test, tuned_gb_and_ada.predict_proba(X_test)[:,1])"
   ]
  },
  {
   "cell_type": "markdown",
   "metadata": {},
   "source": [
    "Воспользуемся алгоритмом xgboost как одним из лучших на данных момент с целью получения наилучших результатов."
   ]
  },
  {
   "cell_type": "markdown",
   "metadata": {},
   "source": [
    "# XGBoost"
   ]
  },
  {
   "cell_type": "code",
   "execution_count": 2,
   "metadata": {},
   "outputs": [
    {
     "ename": "OSError",
     "evalue": "dlopen(/anaconda3/lib/python3.6/site-packages/xgboost/./lib/libxgboost.so, 6): Library not loaded: /usr/local/opt/gcc/lib/gcc/5/libgomp.1.dylib\n  Referenced from: /anaconda3/lib/python3.6/site-packages/xgboost/./lib/libxgboost.so\n  Reason: image not found",
     "output_type": "error",
     "traceback": [
      "\u001b[0;31m---------------------------------------------------------------------------\u001b[0m",
      "\u001b[0;31mOSError\u001b[0m                                   Traceback (most recent call last)",
      "\u001b[0;32m<ipython-input-2-6042a10d0663>\u001b[0m in \u001b[0;36m<module>\u001b[0;34m()\u001b[0m\n\u001b[0;32m----> 1\u001b[0;31m \u001b[0;32mimport\u001b[0m \u001b[0mxgboost\u001b[0m \u001b[0;32mas\u001b[0m \u001b[0mxgb\u001b[0m\u001b[0;34m\u001b[0m\u001b[0m\n\u001b[0m\u001b[1;32m      2\u001b[0m \u001b[0;32mfrom\u001b[0m \u001b[0mxgboost\u001b[0m\u001b[0;34m.\u001b[0m\u001b[0msklearn\u001b[0m \u001b[0;32mimport\u001b[0m \u001b[0mXGBClassifier\u001b[0m\u001b[0;34m\u001b[0m\u001b[0m\n",
      "\u001b[0;32m/anaconda3/lib/python3.6/site-packages/xgboost/__init__.py\u001b[0m in \u001b[0;36m<module>\u001b[0;34m()\u001b[0m\n\u001b[1;32m      9\u001b[0m \u001b[0;32mimport\u001b[0m \u001b[0mos\u001b[0m\u001b[0;34m\u001b[0m\u001b[0m\n\u001b[1;32m     10\u001b[0m \u001b[0;34m\u001b[0m\u001b[0m\n\u001b[0;32m---> 11\u001b[0;31m \u001b[0;32mfrom\u001b[0m \u001b[0;34m.\u001b[0m\u001b[0mcore\u001b[0m \u001b[0;32mimport\u001b[0m \u001b[0mDMatrix\u001b[0m\u001b[0;34m,\u001b[0m \u001b[0mBooster\u001b[0m\u001b[0;34m\u001b[0m\u001b[0m\n\u001b[0m\u001b[1;32m     12\u001b[0m \u001b[0;32mfrom\u001b[0m \u001b[0;34m.\u001b[0m\u001b[0mtraining\u001b[0m \u001b[0;32mimport\u001b[0m \u001b[0mtrain\u001b[0m\u001b[0;34m,\u001b[0m \u001b[0mcv\u001b[0m\u001b[0;34m\u001b[0m\u001b[0m\n\u001b[1;32m     13\u001b[0m \u001b[0;32mfrom\u001b[0m \u001b[0;34m.\u001b[0m \u001b[0;32mimport\u001b[0m \u001b[0mrabit\u001b[0m                   \u001b[0;31m# noqa\u001b[0m\u001b[0;34m\u001b[0m\u001b[0m\n",
      "\u001b[0;32m/anaconda3/lib/python3.6/site-packages/xgboost/core.py\u001b[0m in \u001b[0;36m<module>\u001b[0;34m()\u001b[0m\n\u001b[1;32m    110\u001b[0m \u001b[0;34m\u001b[0m\u001b[0m\n\u001b[1;32m    111\u001b[0m \u001b[0;31m# load the XGBoost library globally\u001b[0m\u001b[0;34m\u001b[0m\u001b[0;34m\u001b[0m\u001b[0m\n\u001b[0;32m--> 112\u001b[0;31m \u001b[0m_LIB\u001b[0m \u001b[0;34m=\u001b[0m \u001b[0m_load_lib\u001b[0m\u001b[0;34m(\u001b[0m\u001b[0;34m)\u001b[0m\u001b[0;34m\u001b[0m\u001b[0m\n\u001b[0m\u001b[1;32m    113\u001b[0m \u001b[0;34m\u001b[0m\u001b[0m\n\u001b[1;32m    114\u001b[0m \u001b[0;34m\u001b[0m\u001b[0m\n",
      "\u001b[0;32m/anaconda3/lib/python3.6/site-packages/xgboost/core.py\u001b[0m in \u001b[0;36m_load_lib\u001b[0;34m()\u001b[0m\n\u001b[1;32m    104\u001b[0m     \u001b[0;32mif\u001b[0m \u001b[0mlen\u001b[0m\u001b[0;34m(\u001b[0m\u001b[0mlib_path\u001b[0m\u001b[0;34m)\u001b[0m \u001b[0;34m==\u001b[0m \u001b[0;36m0\u001b[0m\u001b[0;34m:\u001b[0m\u001b[0;34m\u001b[0m\u001b[0m\n\u001b[1;32m    105\u001b[0m         \u001b[0;32mreturn\u001b[0m \u001b[0;32mNone\u001b[0m\u001b[0;34m\u001b[0m\u001b[0m\n\u001b[0;32m--> 106\u001b[0;31m     \u001b[0mlib\u001b[0m \u001b[0;34m=\u001b[0m \u001b[0mctypes\u001b[0m\u001b[0;34m.\u001b[0m\u001b[0mcdll\u001b[0m\u001b[0;34m.\u001b[0m\u001b[0mLoadLibrary\u001b[0m\u001b[0;34m(\u001b[0m\u001b[0mlib_path\u001b[0m\u001b[0;34m[\u001b[0m\u001b[0;36m0\u001b[0m\u001b[0;34m]\u001b[0m\u001b[0;34m)\u001b[0m\u001b[0;34m\u001b[0m\u001b[0m\n\u001b[0m\u001b[1;32m    107\u001b[0m     \u001b[0mlib\u001b[0m\u001b[0;34m.\u001b[0m\u001b[0mXGBGetLastError\u001b[0m\u001b[0;34m.\u001b[0m\u001b[0mrestype\u001b[0m \u001b[0;34m=\u001b[0m \u001b[0mctypes\u001b[0m\u001b[0;34m.\u001b[0m\u001b[0mc_char_p\u001b[0m\u001b[0;34m\u001b[0m\u001b[0m\n\u001b[1;32m    108\u001b[0m     \u001b[0;32mreturn\u001b[0m \u001b[0mlib\u001b[0m\u001b[0;34m\u001b[0m\u001b[0m\n",
      "\u001b[0;32m/anaconda3/lib/python3.6/ctypes/__init__.py\u001b[0m in \u001b[0;36mLoadLibrary\u001b[0;34m(self, name)\u001b[0m\n\u001b[1;32m    424\u001b[0m \u001b[0;34m\u001b[0m\u001b[0m\n\u001b[1;32m    425\u001b[0m     \u001b[0;32mdef\u001b[0m \u001b[0mLoadLibrary\u001b[0m\u001b[0;34m(\u001b[0m\u001b[0mself\u001b[0m\u001b[0;34m,\u001b[0m \u001b[0mname\u001b[0m\u001b[0;34m)\u001b[0m\u001b[0;34m:\u001b[0m\u001b[0;34m\u001b[0m\u001b[0m\n\u001b[0;32m--> 426\u001b[0;31m         \u001b[0;32mreturn\u001b[0m \u001b[0mself\u001b[0m\u001b[0;34m.\u001b[0m\u001b[0m_dlltype\u001b[0m\u001b[0;34m(\u001b[0m\u001b[0mname\u001b[0m\u001b[0;34m)\u001b[0m\u001b[0;34m\u001b[0m\u001b[0m\n\u001b[0m\u001b[1;32m    427\u001b[0m \u001b[0;34m\u001b[0m\u001b[0m\n\u001b[1;32m    428\u001b[0m \u001b[0mcdll\u001b[0m \u001b[0;34m=\u001b[0m \u001b[0mLibraryLoader\u001b[0m\u001b[0;34m(\u001b[0m\u001b[0mCDLL\u001b[0m\u001b[0;34m)\u001b[0m\u001b[0;34m\u001b[0m\u001b[0m\n",
      "\u001b[0;32m/anaconda3/lib/python3.6/ctypes/__init__.py\u001b[0m in \u001b[0;36m__init__\u001b[0;34m(self, name, mode, handle, use_errno, use_last_error)\u001b[0m\n\u001b[1;32m    346\u001b[0m \u001b[0;34m\u001b[0m\u001b[0m\n\u001b[1;32m    347\u001b[0m         \u001b[0;32mif\u001b[0m \u001b[0mhandle\u001b[0m \u001b[0;32mis\u001b[0m \u001b[0;32mNone\u001b[0m\u001b[0;34m:\u001b[0m\u001b[0;34m\u001b[0m\u001b[0m\n\u001b[0;32m--> 348\u001b[0;31m             \u001b[0mself\u001b[0m\u001b[0;34m.\u001b[0m\u001b[0m_handle\u001b[0m \u001b[0;34m=\u001b[0m \u001b[0m_dlopen\u001b[0m\u001b[0;34m(\u001b[0m\u001b[0mself\u001b[0m\u001b[0;34m.\u001b[0m\u001b[0m_name\u001b[0m\u001b[0;34m,\u001b[0m \u001b[0mmode\u001b[0m\u001b[0;34m)\u001b[0m\u001b[0;34m\u001b[0m\u001b[0m\n\u001b[0m\u001b[1;32m    349\u001b[0m         \u001b[0;32melse\u001b[0m\u001b[0;34m:\u001b[0m\u001b[0;34m\u001b[0m\u001b[0m\n\u001b[1;32m    350\u001b[0m             \u001b[0mself\u001b[0m\u001b[0;34m.\u001b[0m\u001b[0m_handle\u001b[0m \u001b[0;34m=\u001b[0m \u001b[0mhandle\u001b[0m\u001b[0;34m\u001b[0m\u001b[0m\n",
      "\u001b[0;31mOSError\u001b[0m: dlopen(/anaconda3/lib/python3.6/site-packages/xgboost/./lib/libxgboost.so, 6): Library not loaded: /usr/local/opt/gcc/lib/gcc/5/libgomp.1.dylib\n  Referenced from: /anaconda3/lib/python3.6/site-packages/xgboost/./lib/libxgboost.so\n  Reason: image not found"
     ]
    }
   ],
   "source": [
    "import xgboost as xgb\n",
    "from xgboost.sklearn import XGBClassifier"
   ]
  },
  {
   "cell_type": "code",
   "execution_count": 51,
   "metadata": {},
   "outputs": [
    {
     "data": {
      "text/plain": [
       "0.94605377662264967"
      ]
     },
     "execution_count": 51,
     "metadata": {},
     "output_type": "execute_result"
    }
   ],
   "source": [
    "not_tuned_xgb_on_OSXtrain = XGBClassifier().fit(osX_train1, osy_train1)\n",
    "pred_for_not_tuned_xgb_on_OSXtrain = not_tuned_xgb_on_OSXtrain.predict_proba(X_test)[:,1]\n",
    "roc_auc_score(y_test, pred_for_not_tuned_xgb_on_OSXtrain)"
   ]
  },
  {
   "cell_type": "markdown",
   "metadata": {},
   "source": [
    "Проведем настройку параметров xgboost на кросс-валидации."
   ]
  },
  {
   "cell_type": "markdown",
   "metadata": {},
   "source": [
    "# Tuning XGBoost"
   ]
  },
  {
   "cell_type": "code",
   "execution_count": 205,
   "metadata": {},
   "outputs": [
    {
     "data": {
      "text/plain": [
       "0.94867008832065403"
      ]
     },
     "execution_count": 205,
     "metadata": {},
     "output_type": "execute_result"
    }
   ],
   "source": [
    "xgb1 = XGBClassifier(\n",
    " learning_rate =0.1,\n",
    " n_estimators=100,\n",
    " max_depth=5,\n",
    " min_child_weight=1,\n",
    " gamma=0,\n",
    " subsample=0.8,\n",
    " colsample_bytree=0.8,\n",
    " objective= 'binary:logistic',\n",
    " nthread=4,\n",
    " scale_pos_weight=1,\n",
    " seed=27).fit(osX_train1, osy_train1)\n",
    "roc_auc_score(y_test, xgb1.fit(osX_train1, osy_train1).predict_proba(X_test)[:,1])"
   ]
  },
  {
   "cell_type": "code",
   "execution_count": 207,
   "metadata": {},
   "outputs": [
    {
     "name": "stdout",
     "output_type": "stream",
     "text": [
      "Wall time: 2min 21s\n"
     ]
    }
   ],
   "source": [
    "%%time\n",
    "xgb_param_test1 = {'max_depth': np.arange(3,10,2),\n",
    "                   'min_child_weight': np.arange(1,6,2)}\n",
    "\n",
    "gsearch_xgb1 = GridSearchCV(XGBClassifier( learning_rate=0.1, n_estimators=100,\n",
    " gamma=0, subsample=0.8, colsample_bytree=0.8,\n",
    " objective= 'binary:logistic', nthread=4, scale_pos_weight=1, seed=27), \n",
    " xgb_param_test1, scoring='roc_auc',n_jobs=-1, cv=5).fit(osX_train1, osy_train1)"
   ]
  },
  {
   "cell_type": "code",
   "execution_count": 208,
   "metadata": {},
   "outputs": [
    {
     "data": {
      "text/plain": [
       "([mean: 0.94951, std: 0.00303, params: {'max_depth': 3, 'min_child_weight': 1},\n",
       "  mean: 0.94945, std: 0.00297, params: {'max_depth': 3, 'min_child_weight': 3},\n",
       "  mean: 0.94942, std: 0.00313, params: {'max_depth': 3, 'min_child_weight': 5},\n",
       "  mean: 0.96107, std: 0.00295, params: {'max_depth': 5, 'min_child_weight': 1},\n",
       "  mean: 0.95996, std: 0.00288, params: {'max_depth': 5, 'min_child_weight': 3},\n",
       "  mean: 0.95935, std: 0.00287, params: {'max_depth': 5, 'min_child_weight': 5},\n",
       "  mean: 0.97310, std: 0.00287, params: {'max_depth': 7, 'min_child_weight': 1},\n",
       "  mean: 0.97024, std: 0.00305, params: {'max_depth': 7, 'min_child_weight': 3},\n",
       "  mean: 0.96794, std: 0.00340, params: {'max_depth': 7, 'min_child_weight': 5},\n",
       "  mean: 0.98306, std: 0.00245, params: {'max_depth': 9, 'min_child_weight': 1},\n",
       "  mean: 0.97802, std: 0.00266, params: {'max_depth': 9, 'min_child_weight': 3},\n",
       "  mean: 0.97541, std: 0.00282, params: {'max_depth': 9, 'min_child_weight': 5}],\n",
       " {'max_depth': 9, 'min_child_weight': 1},\n",
       " 0.9830596544056751)"
      ]
     },
     "execution_count": 208,
     "metadata": {},
     "output_type": "execute_result"
    }
   ],
   "source": [
    "gsearch_xgb1.grid_scores_, gsearch_xgb1.best_params_, gsearch_xgb1.best_score_"
   ]
  },
  {
   "cell_type": "code",
   "execution_count": 209,
   "metadata": {},
   "outputs": [
    {
     "name": "stdout",
     "output_type": "stream",
     "text": [
      "Wall time: 1min 26s\n"
     ]
    }
   ],
   "source": [
    "%%time\n",
    "xgb_param_test2 = {'max_depth': [9, 10, 11, 12]}\n",
    "\n",
    "gsearch_xgb2 = GridSearchCV(XGBClassifier( learning_rate =0.1, n_estimators=100,\n",
    " min_child_weight=1, gamma=0, subsample=0.8, colsample_bytree=0.8,\n",
    " objective= 'binary:logistic', nthread=4, scale_pos_weight=1, seed=27), \n",
    " xgb_param_test2, scoring='roc_auc',n_jobs=-1, cv=5).fit(osX_train1, osy_train1)"
   ]
  },
  {
   "cell_type": "code",
   "execution_count": 210,
   "metadata": {},
   "outputs": [
    {
     "data": {
      "text/plain": [
       "([mean: 0.98306, std: 0.00245, params: {'max_depth': 9},\n",
       "  mean: 0.98614, std: 0.00196, params: {'max_depth': 10},\n",
       "  mean: 0.98864, std: 0.00150, params: {'max_depth': 11},\n",
       "  mean: 0.99021, std: 0.00151, params: {'max_depth': 12}],\n",
       " {'max_depth': 12},\n",
       " 0.990209565427111)"
      ]
     },
     "execution_count": 210,
     "metadata": {},
     "output_type": "execute_result"
    }
   ],
   "source": [
    "gsearch_xgb2.grid_scores_, gsearch_xgb2.best_params_, gsearch_xgb2.best_score_"
   ]
  },
  {
   "cell_type": "code",
   "execution_count": 84,
   "metadata": {},
   "outputs": [
    {
     "name": "stdout",
     "output_type": "stream",
     "text": [
      "Wall time: 2min 11s\n"
     ]
    }
   ],
   "source": [
    "%%time\n",
    "xgb_param_test3 = {'gamma' : [0, 0.1, 0.2, 0.3, 0.4]}\n",
    "\n",
    "gsearch_xgb3 = GridSearchCV(XGBClassifier(max_depth=10, learning_rate =0.1, n_estimators=100,\n",
    " min_child_weight=1, subsample=0.8, colsample_bytree=0.8,\n",
    " objective= 'binary:logistic', nthread=4, scale_pos_weight=1, seed=27), \n",
    " xgb_param_test3, scoring='roc_auc',n_jobs=-1, cv=5).fit(osX_train1, osy_train1)"
   ]
  },
  {
   "cell_type": "code",
   "execution_count": 85,
   "metadata": {},
   "outputs": [
    {
     "data": {
      "text/plain": [
       "([mean: 0.98727, std: 0.00151, params: {'gamma': 0},\n",
       "  mean: 0.98707, std: 0.00149, params: {'gamma': 0.1},\n",
       "  mean: 0.98726, std: 0.00130, params: {'gamma': 0.2},\n",
       "  mean: 0.98718, std: 0.00138, params: {'gamma': 0.3},\n",
       "  mean: 0.98712, std: 0.00144, params: {'gamma': 0.4}],\n",
       " {'gamma': 0},\n",
       " 0.9872714788765482)"
      ]
     },
     "execution_count": 85,
     "metadata": {},
     "output_type": "execute_result"
    }
   ],
   "source": [
    "gsearch_xgb3.grid_scores_, gsearch_xgb3.best_params_, gsearch_xgb3.best_score_"
   ]
  },
  {
   "cell_type": "code",
   "execution_count": 86,
   "metadata": {},
   "outputs": [
    {
     "name": "stdout",
     "output_type": "stream",
     "text": [
      "Wall time: 6min 25s\n"
     ]
    }
   ],
   "source": [
    "%%time\n",
    "xgb_param_test4 = { 'subsample' : [0.6, 0.7, 0.8, 0.9],\n",
    "                    'colsample_bytree' : [0.6, 0.7, 0.8, 0.9]}\n",
    "\n",
    "gsearch_xgb4 = GridSearchCV(XGBClassifier(max_depth=10, learning_rate =0.1, n_estimators=100,\n",
    " min_child_weight=1, gamma=0,\n",
    " objective= 'binary:logistic', nthread=4, scale_pos_weight=1, seed=27), \n",
    " xgb_param_test4, scoring='roc_auc',n_jobs=-1, cv=5).fit(osX_train1, osy_train1)"
   ]
  },
  {
   "cell_type": "code",
   "execution_count": 87,
   "metadata": {},
   "outputs": [
    {
     "data": {
      "text/plain": [
       "([mean: 0.98745, std: 0.00151, params: {'subsample': 0.6, 'colsample_bytree': 0.6},\n",
       "  mean: 0.98782, std: 0.00125, params: {'subsample': 0.7, 'colsample_bytree': 0.6},\n",
       "  mean: 0.98845, std: 0.00143, params: {'subsample': 0.8, 'colsample_bytree': 0.6},\n",
       "  mean: 0.98859, std: 0.00104, params: {'subsample': 0.9, 'colsample_bytree': 0.6},\n",
       "  mean: 0.98665, std: 0.00140, params: {'subsample': 0.6, 'colsample_bytree': 0.7},\n",
       "  mean: 0.98744, std: 0.00125, params: {'subsample': 0.7, 'colsample_bytree': 0.7},\n",
       "  mean: 0.98788, std: 0.00120, params: {'subsample': 0.8, 'colsample_bytree': 0.7},\n",
       "  mean: 0.98814, std: 0.00138, params: {'subsample': 0.9, 'colsample_bytree': 0.7},\n",
       "  mean: 0.98653, std: 0.00181, params: {'subsample': 0.6, 'colsample_bytree': 0.8},\n",
       "  mean: 0.98654, std: 0.00148, params: {'subsample': 0.7, 'colsample_bytree': 0.8},\n",
       "  mean: 0.98727, std: 0.00151, params: {'subsample': 0.8, 'colsample_bytree': 0.8},\n",
       "  mean: 0.98707, std: 0.00174, params: {'subsample': 0.9, 'colsample_bytree': 0.8},\n",
       "  mean: 0.98601, std: 0.00172, params: {'subsample': 0.6, 'colsample_bytree': 0.9},\n",
       "  mean: 0.98704, std: 0.00153, params: {'subsample': 0.7, 'colsample_bytree': 0.9},\n",
       "  mean: 0.98695, std: 0.00115, params: {'subsample': 0.8, 'colsample_bytree': 0.9},\n",
       "  mean: 0.98669, std: 0.00143, params: {'subsample': 0.9, 'colsample_bytree': 0.9}],\n",
       " {'colsample_bytree': 0.6, 'subsample': 0.9},\n",
       " 0.9885923722678736)"
      ]
     },
     "execution_count": 87,
     "metadata": {},
     "output_type": "execute_result"
    }
   ],
   "source": [
    "gsearch_xgb4.grid_scores_, gsearch_xgb4.best_params_, gsearch_xgb4.best_score_"
   ]
  },
  {
   "cell_type": "code",
   "execution_count": 1,
   "metadata": {
    "collapsed": true
   },
   "outputs": [
    {
     "ename": "NameError",
     "evalue": "name 'GridSearchCV' is not defined",
     "output_type": "error",
     "traceback": [
      "\u001b[0;31m---------------------------------------------------------------------------\u001b[0m",
      "\u001b[0;31mNameError\u001b[0m                                 Traceback (most recent call last)",
      "\u001b[0;32m<ipython-input-1-8a12ebed68f2>\u001b[0m in \u001b[0;36m<module>\u001b[0;34m()\u001b[0m\n\u001b[0;32m----> 1\u001b[0;31m \u001b[0mget_ipython\u001b[0m\u001b[1;33m(\u001b[0m\u001b[1;33m)\u001b[0m\u001b[1;33m.\u001b[0m\u001b[0mrun_cell_magic\u001b[0m\u001b[1;33m(\u001b[0m\u001b[1;34m'time'\u001b[0m\u001b[1;33m,\u001b[0m \u001b[1;34m''\u001b[0m\u001b[1;33m,\u001b[0m \u001b[1;34m\"xgb_param_test5 = { 'reg_alpha' : [1e-5, 1e-2, 0.1, 1, 100]}\\n\\ngsearch_xgb5 = GridSearchCV(XGBClassifier(max_depth=10, learning_rate =0.1, n_estimators=100,\\n min_child_weight=1, gamma=0, colsample_bytree=0.6, subsample=0.9,\\n objective= 'binary:logistic', nthread=4, scale_pos_weight=1, seed=27), \\n xgb_param_test5, scoring='roc_auc',n_jobs=-1, cv=5).fit(osX_train1, osy_train1)\"\u001b[0m\u001b[1;33m)\u001b[0m\u001b[1;33m\u001b[0m\u001b[0m\n\u001b[0m",
      "\u001b[0;32mC:\\Users\\Roma\\Anaconda3\\lib\\site-packages\\IPython\\core\\interactiveshell.py\u001b[0m in \u001b[0;36mrun_cell_magic\u001b[0;34m(self, magic_name, line, cell)\u001b[0m\n\u001b[1;32m   2113\u001b[0m             \u001b[0mmagic_arg_s\u001b[0m \u001b[1;33m=\u001b[0m \u001b[0mself\u001b[0m\u001b[1;33m.\u001b[0m\u001b[0mvar_expand\u001b[0m\u001b[1;33m(\u001b[0m\u001b[0mline\u001b[0m\u001b[1;33m,\u001b[0m \u001b[0mstack_depth\u001b[0m\u001b[1;33m)\u001b[0m\u001b[1;33m\u001b[0m\u001b[0m\n\u001b[1;32m   2114\u001b[0m             \u001b[1;32mwith\u001b[0m \u001b[0mself\u001b[0m\u001b[1;33m.\u001b[0m\u001b[0mbuiltin_trap\u001b[0m\u001b[1;33m:\u001b[0m\u001b[1;33m\u001b[0m\u001b[0m\n\u001b[0;32m-> 2115\u001b[0;31m                 \u001b[0mresult\u001b[0m \u001b[1;33m=\u001b[0m \u001b[0mfn\u001b[0m\u001b[1;33m(\u001b[0m\u001b[0mmagic_arg_s\u001b[0m\u001b[1;33m,\u001b[0m \u001b[0mcell\u001b[0m\u001b[1;33m)\u001b[0m\u001b[1;33m\u001b[0m\u001b[0m\n\u001b[0m\u001b[1;32m   2116\u001b[0m             \u001b[1;32mreturn\u001b[0m \u001b[0mresult\u001b[0m\u001b[1;33m\u001b[0m\u001b[0m\n\u001b[1;32m   2117\u001b[0m \u001b[1;33m\u001b[0m\u001b[0m\n",
      "\u001b[0;32m<decorator-gen-60>\u001b[0m in \u001b[0;36mtime\u001b[0;34m(self, line, cell, local_ns)\u001b[0m\n",
      "\u001b[0;32mC:\\Users\\Roma\\Anaconda3\\lib\\site-packages\\IPython\\core\\magic.py\u001b[0m in \u001b[0;36m<lambda>\u001b[0;34m(f, *a, **k)\u001b[0m\n\u001b[1;32m    186\u001b[0m     \u001b[1;31m# but it's overkill for just that one bit of state.\u001b[0m\u001b[1;33m\u001b[0m\u001b[1;33m\u001b[0m\u001b[0m\n\u001b[1;32m    187\u001b[0m     \u001b[1;32mdef\u001b[0m \u001b[0mmagic_deco\u001b[0m\u001b[1;33m(\u001b[0m\u001b[0marg\u001b[0m\u001b[1;33m)\u001b[0m\u001b[1;33m:\u001b[0m\u001b[1;33m\u001b[0m\u001b[0m\n\u001b[0;32m--> 188\u001b[0;31m         \u001b[0mcall\u001b[0m \u001b[1;33m=\u001b[0m \u001b[1;32mlambda\u001b[0m \u001b[0mf\u001b[0m\u001b[1;33m,\u001b[0m \u001b[1;33m*\u001b[0m\u001b[0ma\u001b[0m\u001b[1;33m,\u001b[0m \u001b[1;33m**\u001b[0m\u001b[0mk\u001b[0m\u001b[1;33m:\u001b[0m \u001b[0mf\u001b[0m\u001b[1;33m(\u001b[0m\u001b[1;33m*\u001b[0m\u001b[0ma\u001b[0m\u001b[1;33m,\u001b[0m \u001b[1;33m**\u001b[0m\u001b[0mk\u001b[0m\u001b[1;33m)\u001b[0m\u001b[1;33m\u001b[0m\u001b[0m\n\u001b[0m\u001b[1;32m    189\u001b[0m \u001b[1;33m\u001b[0m\u001b[0m\n\u001b[1;32m    190\u001b[0m         \u001b[1;32mif\u001b[0m \u001b[0mcallable\u001b[0m\u001b[1;33m(\u001b[0m\u001b[0marg\u001b[0m\u001b[1;33m)\u001b[0m\u001b[1;33m:\u001b[0m\u001b[1;33m\u001b[0m\u001b[0m\n",
      "\u001b[0;32mC:\\Users\\Roma\\Anaconda3\\lib\\site-packages\\IPython\\core\\magics\\execution.py\u001b[0m in \u001b[0;36mtime\u001b[0;34m(self, line, cell, local_ns)\u001b[0m\n\u001b[1;32m   1178\u001b[0m         \u001b[1;32melse\u001b[0m\u001b[1;33m:\u001b[0m\u001b[1;33m\u001b[0m\u001b[0m\n\u001b[1;32m   1179\u001b[0m             \u001b[0mst\u001b[0m \u001b[1;33m=\u001b[0m \u001b[0mclock2\u001b[0m\u001b[1;33m(\u001b[0m\u001b[1;33m)\u001b[0m\u001b[1;33m\u001b[0m\u001b[0m\n\u001b[0;32m-> 1180\u001b[0;31m             \u001b[0mexec\u001b[0m\u001b[1;33m(\u001b[0m\u001b[0mcode\u001b[0m\u001b[1;33m,\u001b[0m \u001b[0mglob\u001b[0m\u001b[1;33m,\u001b[0m \u001b[0mlocal_ns\u001b[0m\u001b[1;33m)\u001b[0m\u001b[1;33m\u001b[0m\u001b[0m\n\u001b[0m\u001b[1;32m   1181\u001b[0m             \u001b[0mend\u001b[0m \u001b[1;33m=\u001b[0m \u001b[0mclock2\u001b[0m\u001b[1;33m(\u001b[0m\u001b[1;33m)\u001b[0m\u001b[1;33m\u001b[0m\u001b[0m\n\u001b[1;32m   1182\u001b[0m             \u001b[0mout\u001b[0m \u001b[1;33m=\u001b[0m \u001b[1;32mNone\u001b[0m\u001b[1;33m\u001b[0m\u001b[0m\n",
      "\u001b[0;32m<timed exec>\u001b[0m in \u001b[0;36m<module>\u001b[0;34m()\u001b[0m\n",
      "\u001b[0;31mNameError\u001b[0m: name 'GridSearchCV' is not defined"
     ]
    }
   ],
   "source": [
    "%%time\n",
    "xgb_param_test5 = { 'reg_alpha' : [1e-5, 1e-2, 0.1, 1, 100]}\n",
    "\n",
    "gsearch_xgb5 = GridSearchCV(XGBClassifier(max_depth=10, learning_rate =0.1, n_estimators=100,\n",
    " min_child_weight=1, gamma=0, colsample_bytree=0.6, subsample=0.9,\n",
    " objective= 'binary:logistic', nthread=4, scale_pos_weight=1, seed=27), \n",
    " xgb_param_test5, scoring='roc_auc',n_jobs=-1, cv=5).fit(osX_train1, osy_train1)"
   ]
  },
  {
   "cell_type": "code",
   "execution_count": 89,
   "metadata": {},
   "outputs": [
    {
     "data": {
      "text/plain": [
       "([mean: 0.98855, std: 0.00105, params: {'reg_alpha': 1e-05},\n",
       "  mean: 0.98861, std: 0.00125, params: {'reg_alpha': 0.01},\n",
       "  mean: 0.98864, std: 0.00130, params: {'reg_alpha': 0.1},\n",
       "  mean: 0.98740, std: 0.00136, params: {'reg_alpha': 1},\n",
       "  mean: 0.94792, std: 0.00262, params: {'reg_alpha': 100}],\n",
       " {'reg_alpha': 0.1},\n",
       " 0.9886409416633875)"
      ]
     },
     "execution_count": 89,
     "metadata": {},
     "output_type": "execute_result"
    }
   ],
   "source": [
    "gsearch_xgb5.grid_scores_, gsearch_xgb5.best_params_, gsearch_xgb5.best_score_"
   ]
  },
  {
   "cell_type": "code",
   "execution_count": 18,
   "metadata": {},
   "outputs": [
    {
     "data": {
      "text/plain": [
       "0.9515465082067126"
      ]
     },
     "execution_count": 18,
     "metadata": {},
     "output_type": "execute_result"
    }
   ],
   "source": [
    "tuned_xgb_on_OSXtrain = XGBClassifier(max_depth=8, learning_rate=0.01, n_estimators=1000,\n",
    " min_child_weight=1, gamma=0, colsample_bytree=0.6, subsample=0.8, reg_alpha=0.1,\n",
    " objective= 'binary:logistic', nthread=4, scale_pos_weight=1, seed=2000).fit(osX_train1, osy_train1)\n",
    "\n",
    "roc_auc_score(y_test, tuned_xgb_on_OSXtrain.predict_proba(X_test)[:,1])"
   ]
  },
  {
   "cell_type": "code",
   "execution_count": 33,
   "metadata": {},
   "outputs": [
    {
     "data": {
      "text/plain": [
       "0.95233854527877604"
      ]
     },
     "execution_count": 33,
     "metadata": {},
     "output_type": "execute_result"
    }
   ],
   "source": [
    "# without OS\n",
    "tuned_xgb = XGBClassifier(max_depth=8, learning_rate=0.01, n_estimators=1000,\n",
    " min_child_weight=1, gamma=0, colsample_bytree=0.6, subsample=0.8, reg_alpha=0.1,\n",
    " objective= 'binary:logistic', nthread=4, scale_pos_weight=1, seed=2042).fit(X_train, y_train)\n",
    "\n",
    "roc_auc_score(y_test, tuned_xgb.predict_proba(X_test)[:,1])"
   ]
  },
  {
   "cell_type": "markdown",
   "metadata": {},
   "source": [
    "# Composition of tuned XGB + RF on OSXtrain"
   ]
  },
  {
   "cell_type": "code",
   "execution_count": 121,
   "metadata": {},
   "outputs": [
    {
     "data": {
      "text/plain": [
       "0.95015945820986492"
      ]
     },
     "execution_count": 121,
     "metadata": {},
     "output_type": "execute_result"
    }
   ],
   "source": [
    "os_Xtrain_eclf_tuned_models_xgb_and_rf = VotingClassifier(estimators=[('xgb', tuned_xgb_on_OSXtrain),\n",
    "                                                                      ('rf', tuned_rf_withOS_Xtrain)],\n",
    "                                  voting ='soft').fit(osX_train1, osy_train1)\n",
    "\n",
    "roc_auc_score(y_test, os_Xtrain_eclf_tuned_models_xgb_and_rf.predict_proba(X_test)[:,1])"
   ]
  },
  {
   "cell_type": "code",
   "execution_count": 12,
   "metadata": {},
   "outputs": [
    {
     "data": {
      "text/plain": [
       "0.95206665195553042"
      ]
     },
     "execution_count": 12,
     "metadata": {},
     "output_type": "execute_result"
    }
   ],
   "source": [
    "# composition of xgb & gb\n",
    "os_Xtrain_eclf_tuned_models_xgb_and_gb = VotingClassifier(estimators=[('xgb', tuned_xgb_on_OSXtrain),\n",
    "                                                                      ('gb', tuned_gb_withOS_Xtrain)],\n",
    "                                  voting ='soft').fit(osX_train1, osy_train1)\n",
    "\n",
    "roc_auc_score(y_test, os_Xtrain_eclf_tuned_models_xgb_and_gb.predict_proba(X_test)[:,1])"
   ]
  },
  {
   "cell_type": "code",
   "execution_count": 71,
   "metadata": {},
   "outputs": [
    {
     "data": {
      "text/plain": [
       "0.95298215749322246"
      ]
     },
     "execution_count": 71,
     "metadata": {},
     "output_type": "execute_result"
    }
   ],
   "source": [
    "# composition of xgb & gb & ada without OS\n",
    "eclf_tuned_models_xgb_and_gb_and_ada = VotingClassifier(estimators=[('xgb', tuned_xgb),\n",
    "                                                                    ('gb', tuned_gb), \n",
    "                                                                    ('ada', ada)],\n",
    "                                  voting ='soft').fit(X_train, y_train)\n",
    "\n",
    "roc_auc_score(y_test, eclf_tuned_models_xgb_and_gb_and_ada.predict_proba(X_test)[:,1])"
   ]
  },
  {
   "cell_type": "code",
   "execution_count": 41,
   "metadata": {},
   "outputs": [
    {
     "data": {
      "text/plain": [
       "0.95261700607359767"
      ]
     },
     "execution_count": 41,
     "metadata": {},
     "output_type": "execute_result"
    }
   ],
   "source": [
    "# without OS\n",
    "tuned_xgb_and_gb = VotingClassifier(estimators=[('xgb', tuned_xgb), ('gb', tuned_gb)],\n",
    "                                  voting ='soft').fit(X_train, y_train)\n",
    "\n",
    "roc_auc_score(y_test, tuned_xgb_and_gb.predict_proba(X_test)[:,1])"
   ]
  },
  {
   "cell_type": "markdown",
   "metadata": {},
   "source": [
    "Проведем обработку тестовых данных, чтобы сделать на них окончательные предсказания и записать их в файл."
   ]
  },
  {
   "cell_type": "markdown",
   "metadata": {},
   "source": [
    "# Making Final Prediction"
   ]
  },
  {
   "cell_type": "code",
   "execution_count": 42,
   "metadata": {},
   "outputs": [
    {
     "name": "stdout",
     "output_type": "stream",
     "text": [
      "Feature encoding started...\n",
      "\n",
      "Current name:  job\n",
      "\t Feature 'job' - encoded correctly\n",
      "Current name:  marital\n",
      "\t Feature 'marital' - encoded correctly\n",
      "Current name:  education\n",
      "\t Feature 'education' - encoded correctly\n",
      "Current name:  housing\n",
      "\t Feature 'housing' - encoded correctly\n",
      "Current name:  loan\n",
      "\t Feature 'loan' - encoded correctly\n",
      "Current name:  contact\n",
      "\t Feature 'contact' - encoded correctly\n",
      "Current name:  month\n",
      "\t Feature 'month' - encoded correctly\n",
      "Current name:  day_of_week\n",
      "\t Feature 'day_of_week' - encoded correctly\n",
      "Current name:  poutcome\n",
      "\t Feature 'poutcome' - encoded correctly\n",
      "Current name:  default\n",
      "\t Feature 'default' - encoded correctly\n",
      "\n",
      "Feature encoding finished!\n"
     ]
    }
   ],
   "source": [
    "test_data = pd.read_csv('test_data.csv')\n",
    "\n",
    "test_data = test_data.drop('Unnamed: 0', 1)\n",
    "\n",
    "columns = ['job', 'marital', 'education', 'housing', 'loan', 'contact',\n",
    "               'month', 'day_of_week','poutcome', 'default']\n",
    "\n",
    "# encode nominal features\n",
    "test_data = encode_nominals(columns, test_data)\n",
    "\n",
    "X_for_pred = test_data.values"
   ]
  },
  {
   "cell_type": "markdown",
   "metadata": {},
   "source": [
    "Напишем простой метод, сохраняющий предсказания вероятностей классов в .csv файл."
   ]
  },
  {
   "cell_type": "code",
   "execution_count": 43,
   "metadata": {
    "collapsed": true
   },
   "outputs": [],
   "source": [
    "def Save_predictions(model, file_name):\n",
    "    prediction = model.predict_proba(X_for_pred)[:,1]\n",
    "    prediction_df = pd.DataFrame(data = prediction, columns=['Prediction'])\n",
    "    prediction_df.to_csv(file_name, index_label='Id')"
   ]
  },
  {
   "cell_type": "markdown",
   "metadata": {},
   "source": [
    "Сохраним значения вероятностей классов для лучших алгоритмов."
   ]
  },
  {
   "cell_type": "code",
   "execution_count": 103,
   "metadata": {
    "collapsed": true
   },
   "outputs": [],
   "source": [
    "Save_predictions(tuned_gb_withOS_Xtrain, 'tuned gb on os train without default_yes.csv')"
   ]
  },
  {
   "cell_type": "code",
   "execution_count": 122,
   "metadata": {
    "collapsed": true
   },
   "outputs": [],
   "source": [
    "Save_predictions(tuned_xgb_on_OSXtrain, 'pred_proba of tuned xgb on os train without default_yes.csv')"
   ]
  },
  {
   "cell_type": "code",
   "execution_count": 16,
   "metadata": {
    "collapsed": true
   },
   "outputs": [],
   "source": [
    "Save_predictions(os_Xtrain_eclf_tuned_models_xgb_and_gb, 'pred_proba for composition of gb and xgb on OS Train.csv')"
   ]
  },
  {
   "cell_type": "code",
   "execution_count": 19,
   "metadata": {
    "collapsed": true
   },
   "outputs": [],
   "source": [
    "Save_predictions(tuned_xgb, 'pred_proba for tuned xgb without OS.csv')"
   ]
  },
  {
   "cell_type": "code",
   "execution_count": 44,
   "metadata": {
    "collapsed": true
   },
   "outputs": [],
   "source": [
    "Save_predictions(eclf_tuned_models_xgb_and_gb_and_ada, 'pred_proba of composition xgb&gb&ada.csv')"
   ]
  }
 ],
 "metadata": {
  "anaconda-cloud": {},
  "kernelspec": {
   "display_name": "Python 3",
   "language": "python",
   "name": "python3"
  },
  "language_info": {
   "codemirror_mode": {
    "name": "ipython",
    "version": 3
   },
   "file_extension": ".py",
   "mimetype": "text/x-python",
   "name": "python",
   "nbconvert_exporter": "python",
   "pygments_lexer": "ipython3",
   "version": "3.6.2"
  }
 },
 "nbformat": 4,
 "nbformat_minor": 1
}
