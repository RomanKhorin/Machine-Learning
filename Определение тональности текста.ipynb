{
 "cells": [
  {
   "cell_type": "code",
   "execution_count": 13,
   "metadata": {
    "collapsed": true
   },
   "outputs": [],
   "source": [
    "import numpy as np\n",
    "import sklearn\n",
    "import os\n",
    "import string\n",
    "import re\n",
    "from sklearn.utils import shuffle\n",
    "from sklearn.feature_extraction.text import CountVectorizer\n",
    "from sklearn.naive_bayes import MultinomialNB, GaussianNB\n",
    "\n",
    "def convert_text(s):\n",
    "    # Removes all characters from string except letters and digits and convert letters to lowercase\n",
    "    return re.sub(\"[^a-zA-Z0-9]\", \" \", s.lower())\n",
    "\n",
    "def read_txts(dir_path=\"./txt_sentoken/pos/\"):\n",
    "    # Reads all files from directory\n",
    "    if dir_path[-1] != \"/\":\n",
    "        dir_path = dir_path + \"/\"\n",
    "    txt_list = []\n",
    "    for file in os.listdir(dir_path):\n",
    "        file = dir_path + file\n",
    "        fin = open(file, 'r')\n",
    "        txt = \" \".join(fin.readlines())\n",
    "        txt = convert_text(txt)\n",
    "        txt_list.append(txt)\n",
    "    return txt_list"
   ]
  },
  {
   "cell_type": "code",
   "execution_count": 14,
   "metadata": {
    "collapsed": true
   },
   "outputs": [],
   "source": [
    "class PoissonNB:\n",
    "    def __init__(self, class_prior=None):\n",
    "        \"\"\"\n",
    "        class_prior : np.array, size (n_classes,)\n",
    "        Prior probabilities of the classes. If specified the priors are not\n",
    "        adjusted according to the data.\n",
    "        \"\"\"\n",
    "        self.probabilities = class_prior\n",
    "    \n",
    "    def fit(self, X, y, epsilon=1e-9):\n",
    "        \"\"\"\n",
    "        Fit Poisson Naive Bayes according to X, y\n",
    "        \n",
    "        Parameters\n",
    "        ----------\n",
    "        X : np.array, shape (n_samples, n_features)\n",
    "            Training vectors, where n_samples is the number of samples\n",
    "            and n_features is the number of features.\n",
    "        y : np.array, shape (n_samples,)\n",
    "            Target values.\n",
    "        \"\"\"\n",
    "        classes = set(y)\n",
    "        self.classes = classes\n",
    "        \n",
    "        n_samples = X.shape[0]\n",
    "        n_features = X.shape[1]\n",
    "        \n",
    "        self.epsilon = epsilon\n",
    "        \n",
    "    def predict(self, X):\n",
    "        \"\"\"\n",
    "        Perform classification on an array of test vectors X.\n",
    "        \n",
    "        Parameters\n",
    "        ----------\n",
    "        X : np.array, shape = [n_samples, n_features]\n",
    "        \n",
    "        Returns\n",
    "        -------\n",
    "        C : np.array, shape = [n_samples]\n",
    "            Predicted target values for X\n",
    "        \"\"\""
   ]
  },
  {
   "cell_type": "markdown",
   "metadata": {},
   "source": [
    "#### Функция, которая считывает рецензии из файлов, но не обрабатывает их"
   ]
  },
  {
   "cell_type": "code",
   "execution_count": 15,
   "metadata": {
    "collapsed": true
   },
   "outputs": [],
   "source": [
    "def Get_pure_text(dir_path=\"./txt_sentoken/pos/\"):\n",
    "    # Reads all files from directory\n",
    "    if dir_path[-1] != \"/\":\n",
    "        dir_path = dir_path + \"/\"\n",
    "    txt_list = []\n",
    "    for file in os.listdir(dir_path):\n",
    "        file = dir_path + file\n",
    "        fin = open(file, 'r')\n",
    "        txt = (\" \".join(fin.readlines())).replace('\\n','')\n",
    "        txt = txt.strip('/')\n",
    "        txt_list.append(txt)\n",
    "    return txt_list"
   ]
  },
  {
   "cell_type": "markdown",
   "metadata": {},
   "source": [
    "#### Функция, создающая списки для обучающей и контрольной выборки, а также векторы правильных ответов для этих выборок"
   ]
  },
  {
   "cell_type": "code",
   "execution_count": 16,
   "metadata": {
    "collapsed": true
   },
   "outputs": [],
   "source": [
    "def Create_train_and_test(positive, negative):\n",
    "    x_train = positive[:700] + negative[:700]\n",
    "    x_test = positive[700:] + negative[700:]\n",
    "    y_train, y_test = [], []\n",
    "    \n",
    "    for i in range(len(x_train)):\n",
    "        if i <= (len(x_train)/2):\n",
    "            y_train.append(1)\n",
    "        else:\n",
    "            y_train.append(0)\n",
    "            \n",
    "    for i in range(len(x_test)):\n",
    "        if i <= (len(x_test)/2):\n",
    "            y_test.append(1)\n",
    "        else:\n",
    "            y_test.append(0)\n",
    "    \n",
    "    return x_train, x_test, y_train, y_test"
   ]
  },
  {
   "cell_type": "markdown",
   "metadata": {},
   "source": [
    "#### Получаем позитивные и негативные рецензии (а также необработанные рецензии) "
   ]
  },
  {
   "cell_type": "code",
   "execution_count": 17,
   "metadata": {
    "collapsed": true
   },
   "outputs": [],
   "source": [
    "pos = read_txts(dir_path='./pos')\n",
    "neg = read_txts(dir_path='./neg')\n",
    "\n",
    "pure_text = Get_pure_text('./pos') + Get_pure_text('./neg')"
   ]
  },
  {
   "cell_type": "markdown",
   "metadata": {},
   "source": [
    "#### Формируем списки обучающих и контрольных выборок с ответами"
   ]
  },
  {
   "cell_type": "code",
   "execution_count": 18,
   "metadata": {
    "collapsed": true
   },
   "outputs": [],
   "source": [
    "x_train, x_test, y_train, y_test = Create_train_and_test(pos, neg)"
   ]
  },
  {
   "cell_type": "markdown",
   "metadata": {},
   "source": [
    "#### C помощью CountVectorizer создаем 2 матрицы объект-признак для обучающей и контрольной выборок"
   ]
  },
  {
   "cell_type": "code",
   "execution_count": 19,
   "metadata": {
    "collapsed": true
   },
   "outputs": [],
   "source": [
    "vectorizer = CountVectorizer().fit(x_train)\n",
    "x_train = vectorizer.transform(x_train).toarray()\n",
    "x_test = vectorizer.transform(x_test).toarray()"
   ]
  },
  {
   "cell_type": "markdown",
   "metadata": {},
   "source": [
    "#### Реализуем гауссовский наивный байесовский классификатор и определяем его точность"
   ]
  },
  {
   "cell_type": "code",
   "execution_count": 20,
   "metadata": {},
   "outputs": [
    {
     "name": "stdout",
     "output_type": "stream",
     "text": [
      "Accuracy for Naive Bayes Classifier: 0.62\n"
     ]
    }
   ],
   "source": [
    "gnb = GaussianNB().fit(x_train, y_train)\n",
    "print('Accuracy for Naive Bayes Classifier:', round(np.mean(gnb.predict(x_test)==y_test), 2))"
   ]
  },
  {
   "cell_type": "markdown",
   "metadata": {},
   "source": [
    "#### Реализуем мультиноминальный наивный байесовский классификатор и определяем его точность"
   ]
  },
  {
   "cell_type": "code",
   "execution_count": 21,
   "metadata": {},
   "outputs": [
    {
     "name": "stdout",
     "output_type": "stream",
     "text": [
      "Accuracy for Multinomial Classifier: 0.82\n"
     ]
    }
   ],
   "source": [
    "mnb = MultinomialNB().fit(x_train, y_train)\n",
    "print('Accuracy for Multinomial Classifier:', round(np.mean(mnb.predict(x_test) == y_test), 2))"
   ]
  },
  {
   "cell_type": "markdown",
   "metadata": {},
   "source": [
    "#### Функция, которая принимает на вход строку с текстом рецензии, обученный классификатор и объект класса CountVectorizer, и классифицирует рецензию"
   ]
  },
  {
   "cell_type": "code",
   "execution_count": 22,
   "metadata": {
    "collapsed": true
   },
   "outputs": [],
   "source": [
    "# Метод для классификации текста рецензии\n",
    "def Classify(text, tr_vectorizer, tr_classifier):\n",
    "    txt_list = []\n",
    "    print('Text of the review: \\n', text)\n",
    "    text = convert_text(text)\n",
    "    txt_list.append(text)\n",
    "    text = tr_vectorizer.transform(txt_list).toarray()\n",
    "    res = tr_classifier.predict(text)\n",
    "    print('\\n')\n",
    "    if res == 1:\n",
    "        return print('Result: Review is positive!')\n",
    "    else:\n",
    "        return print('Result: Review is negative :c')"
   ]
  },
  {
   "cell_type": "markdown",
   "metadata": {},
   "source": [
    "#### Выводы о наивном байесовском классификаторе\n",
    " Наивный байесовский классификатор является эффективным инструментом для работы с большими объемами данных.\n",
    "Когда выполняется условие независимости признаков элементов обучающей выборки, данный алгоритм позволяет легко и быстро осуществлять как бинарную так и многоклассовую классификацию.\n",
    " Несмотря на то, что точность данного классификатора не всегда явлется достаточно высокой, он прекрасно подходит для задач классификации текстов."
   ]
  },
  {
   "cell_type": "markdown",
   "metadata": {},
   "source": [
    "#### Пример классификации рецензии (на \"родных\" данных)"
   ]
  },
  {
   "cell_type": "code",
   "execution_count": 25,
   "metadata": {
    "scrolled": true
   },
   "outputs": [
    {
     "name": "stdout",
     "output_type": "stream",
     "text": [
      "Choose the number of a review (от 1 до 2000): 5\n",
      "What classifier do you prefer? mnb или gnb?: mnb\n",
      "\n",
      "\n",
      "Text of the review: \n",
      " moviemaking is a lot like being the general manager of an nfl team in the post-salary cap era -- you've got to know how to allocate your resources .  every dollar spent on a free-agent defensive tackle is one less dollar than you can spend on linebackers or safeties or centers .  in the nfl , this leads to teams like the detroit lions , who boast a superstar running back with a huge contract , but can only field five guys named herb to block for him .  in the movies , you end up with films like \" spawn \" , with a huge special-effects budget but not enough money to hire any recognizable actors .  jackie chan is the barry sanders of moviemaking .  he spins and darts across the screen like sanders cutting back through the defensive line .  watching jackie in operation condor as he drives his motorcycle through the crowded streets of madrid , fleeing an armada of pursuers in identical black compact cars , is reminiscent of sanders running for daylight with the chicago bears in hot pursuit , except that sanders doesn't have to worry about rescuing runaway baby carriages .  but like the lions star , jackie doesn't have anybody to block for him .  almost every cent that's invested in a jackie chan movie goes for stunts , and as chan does his own stunts , the rest of the money goes to pay his hospital bills .  this leaves about 75 cents to pay for things like directors ( chan directs ) , scripts and dubbing and supporting characters , not to mention the hideous title sequence .  this also explains why the movie was shot in odd places like morocco and spain .   ( chan's first release in this country , \" rumble in the bronx \" , was supposedly set in new york , but was filmed in vancouver , and in the chase scenes the canadian rockies are clearly visible . )  heck , jackie doesn't even have enough money for a haircut , looks like , much less a personal hairstylist .  in condor , chan plays the same character he's always played , himself , a mixture of bruce lee and tim allen , a master of both kung-fu and slapstick-fu .  jackie is sent by the un to retrieve a cache of lost nazi gold in the north african desert , and is chased by a horde of neo-nazi sympathizers and two stereotypical arabs ( one of the things i like about jackie chan movies : no political correctness ) .  he is joined by three women , who have little to do except scream , \" jackie , save us ! \" , and misuse firearms .  the villain is an old nazi whose legs were broken in the secret base so that he has to be carried everywhere , and he's more pathetic than evil .  en route , we have an extended motorcycle chase scene , a hilarious fight in the moroccan version of motel 6 with the neo-nazis , and two confrontations with savage natives .  once at the secret desert base , there is a long chop-socky sequence , followed by the film's centerpiece , a wind-tunnel fight that's even better than the one in face/off .  this is where the money was spent , on well-choreographed kung-fu sequences , on giant kevlar hamster balls , on smashed-up crates of bananas , and on scorpions .  ignore the gaping holes in the plot ( how , exactly , if the villain's legs were broken , did he escape from the secret nazi base , and why didn't he take the key with him ? ) .  don't worry about the production values , or what , exactly , the japanese girl was doing hitchhiking across the sahara .  just go see the movie .  operation condor has pretentions of being a \" raiders of the lost ark \" knockoff , but one wonders what jackie could do with the raiders franchise blocking for him -- with a lawrence kazdan screenplay , a john williams score , spielberg directing and george lucas producing , condor might be an a+ movie .  however , you've got to go with what you've got , and what you've got in jackie chan is something special -- a talent that mainstream hollywood should , could , and ought to utilize . \n",
      "\n",
      "\n",
      "Result: Review is positive!\n"
     ]
    }
   ],
   "source": [
    "try:\n",
    "    number = int(input('Choose the number of a review (от 1 до 2000): '))\n",
    "    classifier_type = input('What classifier do you prefer? mnb или gnb?: ')\n",
    "    print('\\n')\n",
    "    if classifier_type == 'mnb':\n",
    "        Classify(pure_text[number - 1], vectorizer, mnb)\n",
    "    elif classifier_type == 'gnb':\n",
    "        Classify(pure_text[number - 1], vectorizer, gnb)\n",
    "    else:\n",
    "        print('Choose the mnb or gnb classifier!')\n",
    "except Exception:\n",
    "    print('Error! Enter the number of a review properly!')"
   ]
  },
  {
   "cell_type": "markdown",
   "metadata": {},
   "source": [
    "# Бонус 2\n",
    "#### Пример классификации рецензий, взятых с сайта (https://www.cs.cornell.edu/people/pabo/movie-review-data/)"
   ]
  },
  {
   "cell_type": "code",
   "execution_count": 24,
   "metadata": {
    "scrolled": true
   },
   "outputs": [
    {
     "name": "stdout",
     "output_type": "stream",
     "text": [
      "Choose the number of a review (from 1 to 1386): 4\n",
      "What classifier do you prefer? mnb or gnb?: mnb\n",
      "\n",
      "\n",
      "Text of the review: \n",
      " cast : mel gibson ( jerry fletcher ) , julia roberts ( alice sutton ) , patrick stewart ( dr . jonas ) , cylk cozart ( agent lowry ) director : richard donner certification : r ( usa ) presumably for violence , language , and intense situations year of production : 1997 i was fortunate enough to attend an advance screening for the upcoming thriller conspiracy theory . this was , of course , a big deal for me because reviewing movies is basically just a hobby for me and i never get a chance at something like this . not only did i get to see an advance screening , i was able to see an advance screening of a * very good * movie . the very fast-paced film stars mel gibson as jerry fletcher , a fast-talking , witty , comical taxi driver in new york city . gibson's performance is terrific , and his character is similar to that of martin riggs in the lethal weapon films . gibson again teams up with richard donner , as he did in the lethal weapon films and maverick , and this time around , the combination works even better . the character of jerry fletcher is indeed unique . try to imagine a toned-downed version of travis bickle who , this time around , is a jittery guy with knowledge of government conspiracy cover-ups . if you can imagine that , then you've basically got jerry fletcher . in many ways , i was surprised by this movie . to begin with , i was surprised at how good it was . don't get me wrong , it's not going to be accepting any gold trophies next spring , but it was a very enjoyable movie . secondly , i was surprised at mel gibson's performance . he provided a fantastic performance . the previews of this film led me to believe it was an all-out action flick , which after viewing , it was almost the opposite in a certain sense . gibson's character has an almost uncountable number of one-liners , hilarious situations , and his character is one that the audience tends to side with throughout the film . for instance , jerry's apartment ( and especially his security ) is memorable . and last , i was surprised at how good the plot is . writer brian helgeland has created a terrific story , and when watching this film , you are left to wonder if all of jerry fletcher's far-fetched ( or so they seem at first ) conspiracy theories are helgeland's own opinions . mel gibson isn't the only stand-out in the film . julia roberts is very good in her performance as alice sutton , the department of justice employee who can't seem to stay away from jerry fletcher , who continually visits alice in hopes that she will do something about his theories . he also seems obsessed and in love with her . but whenever he approaches her with another one of his theories , she shrugs him and his beliefs off , continually noting that one day she is going to slap a restraining order on him . jerry , obviously determined to continually seek out the truth , continues to research information for his next conspiracy theory , which will be printed in his newsletter ( same title as the movie ) . although he only has five subscribers , he puts a large amount of time and effort into his work , and publishes his next edition . very soon after he does so , he is abducted and tortured by a sinister man who refers to himself as dr . jonas ( patrick stewart ) . after barely escaping alive , jerry is forced to turn to the only person he can trust : alice sutton . the remainder of the film is almost always fast-paced and full of action and suspense , with jerry's life being constantly put into jeopardy . and more along the way , the audience ( and alice ) learn more and more about jerry's life . many things are explained throughout this film , both to the characters and to the audience . for instance , the meaning of the book \" the catcher in the rye \" and its ties to assassins , the reason lone gunmen have three names ( e . g . lee harvey oswald and james earl ray ) , and the real truth behind the grateful dead . make sure listen closely throughout the film , as jerry is constantly throwing out interesting tidbits such as the above . definitely , when conspiracy theory hits theaters august 8th , make sure you are standing in line to see it . i am nearly positive everyone should enjoy this film , especially if you are into an action-thriller with witty dialogue and numerous suspenseful situations . and even if you aren't , you should still like this film .  * david landers - dml@gwis . com - http : //www . gwis . com/~dml/ *  \n",
      "\n",
      "\n",
      "Result: Review is positive!\n"
     ]
    }
   ],
   "source": [
    "# Позитивные и негативные отзывы вместе\n",
    "new_texts = Get_pure_text(dir_path='./tokens/pos') + Get_pure_text(dir_path='./tokens/neg')\n",
    "\n",
    "try:\n",
    "    number = int(input('Choose the number of a review (from 1 to 1386): '))\n",
    "    classifier_type = input('What classifier do you prefer? mnb or gnb?: ')\n",
    "    print('\\n')\n",
    "    if classifier_type == 'mnb':\n",
    "        Classify(new_texts[number - 1], vectorizer, mnb)\n",
    "    elif classifier_type == 'gnb':\n",
    "        Classify(new_texts[number - 1], vectorizer, gnb)\n",
    "    else:\n",
    "        print('Choose the mnb or gnb classifier!')\n",
    "except Exception:\n",
    "    print('Error! Enter the number of a review properly!')"
   ]
  }
 ],
 "metadata": {
  "kernelspec": {
   "display_name": "Python 3",
   "language": "python",
   "name": "python3"
  },
  "language_info": {
   "codemirror_mode": {
    "name": "ipython",
    "version": 3
   },
   "file_extension": ".py",
   "mimetype": "text/x-python",
   "name": "python",
   "nbconvert_exporter": "python",
   "pygments_lexer": "ipython3",
   "version": "3.6.2"
  }
 },
 "nbformat": 4,
 "nbformat_minor": 1
}
