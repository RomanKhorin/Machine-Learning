{
 "cells": [
  {
   "cell_type": "code",
   "execution_count": 1,
   "metadata": {},
   "outputs": [
    {
     "name": "stdout",
     "output_type": "stream",
     "text": [
      "Populating the interactive namespace from numpy and matplotlib\n"
     ]
    }
   ],
   "source": [
    "import numpy as np\n",
    "import pandas as pd\n",
    "import seaborn as sns\n",
    "from statsmodels.stats.weightstats import *\n",
    "import scipy.stats as sts\n",
    "%pylab inline\n",
    "import itertools"
   ]
  },
  {
   "cell_type": "code",
   "execution_count": 2,
   "metadata": {},
   "outputs": [
    {
     "data": {
      "text/html": [
       "<div>\n",
       "<table border=\"1\" class=\"dataframe\">\n",
       "  <thead>\n",
       "    <tr style=\"text-align: right;\">\n",
       "      <th></th>\n",
       "      <th>state</th>\n",
       "      <th>account_length</th>\n",
       "      <th>area_code</th>\n",
       "      <th>intl_plan</th>\n",
       "      <th>vmail_plan</th>\n",
       "      <th>vmail_message</th>\n",
       "      <th>day_mins</th>\n",
       "      <th>day_calls</th>\n",
       "      <th>day_charge</th>\n",
       "      <th>eve_mins</th>\n",
       "      <th>...</th>\n",
       "      <th>night_mins</th>\n",
       "      <th>night_calls</th>\n",
       "      <th>night_charge</th>\n",
       "      <th>intl_mins</th>\n",
       "      <th>intl_calls</th>\n",
       "      <th>intl_charge</th>\n",
       "      <th>custserv_calls</th>\n",
       "      <th>treatment</th>\n",
       "      <th>mes_estim</th>\n",
       "      <th>churn</th>\n",
       "    </tr>\n",
       "  </thead>\n",
       "  <tbody>\n",
       "    <tr>\n",
       "      <th>0</th>\n",
       "      <td>KS</td>\n",
       "      <td>128</td>\n",
       "      <td>415</td>\n",
       "      <td>no</td>\n",
       "      <td>yes</td>\n",
       "      <td>25</td>\n",
       "      <td>265.1</td>\n",
       "      <td>110</td>\n",
       "      <td>45.07</td>\n",
       "      <td>197.4</td>\n",
       "      <td>...</td>\n",
       "      <td>244.7</td>\n",
       "      <td>91</td>\n",
       "      <td>11.01</td>\n",
       "      <td>10.0</td>\n",
       "      <td>3</td>\n",
       "      <td>2.70</td>\n",
       "      <td>1</td>\n",
       "      <td>1</td>\n",
       "      <td>0.65</td>\n",
       "      <td>False.</td>\n",
       "    </tr>\n",
       "    <tr>\n",
       "      <th>1</th>\n",
       "      <td>OH</td>\n",
       "      <td>107</td>\n",
       "      <td>415</td>\n",
       "      <td>no</td>\n",
       "      <td>yes</td>\n",
       "      <td>26</td>\n",
       "      <td>161.6</td>\n",
       "      <td>123</td>\n",
       "      <td>27.47</td>\n",
       "      <td>195.5</td>\n",
       "      <td>...</td>\n",
       "      <td>254.4</td>\n",
       "      <td>103</td>\n",
       "      <td>11.45</td>\n",
       "      <td>13.7</td>\n",
       "      <td>3</td>\n",
       "      <td>3.70</td>\n",
       "      <td>1</td>\n",
       "      <td>0</td>\n",
       "      <td>0.55</td>\n",
       "      <td>False.</td>\n",
       "    </tr>\n",
       "    <tr>\n",
       "      <th>2</th>\n",
       "      <td>NJ</td>\n",
       "      <td>137</td>\n",
       "      <td>415</td>\n",
       "      <td>no</td>\n",
       "      <td>no</td>\n",
       "      <td>0</td>\n",
       "      <td>243.4</td>\n",
       "      <td>114</td>\n",
       "      <td>41.38</td>\n",
       "      <td>121.2</td>\n",
       "      <td>...</td>\n",
       "      <td>162.6</td>\n",
       "      <td>104</td>\n",
       "      <td>7.32</td>\n",
       "      <td>12.2</td>\n",
       "      <td>5</td>\n",
       "      <td>3.29</td>\n",
       "      <td>0</td>\n",
       "      <td>0</td>\n",
       "      <td>0.72</td>\n",
       "      <td>False.</td>\n",
       "    </tr>\n",
       "    <tr>\n",
       "      <th>3</th>\n",
       "      <td>OH</td>\n",
       "      <td>84</td>\n",
       "      <td>408</td>\n",
       "      <td>yes</td>\n",
       "      <td>no</td>\n",
       "      <td>0</td>\n",
       "      <td>299.4</td>\n",
       "      <td>71</td>\n",
       "      <td>50.90</td>\n",
       "      <td>61.9</td>\n",
       "      <td>...</td>\n",
       "      <td>196.9</td>\n",
       "      <td>89</td>\n",
       "      <td>8.86</td>\n",
       "      <td>6.6</td>\n",
       "      <td>7</td>\n",
       "      <td>1.78</td>\n",
       "      <td>2</td>\n",
       "      <td>1</td>\n",
       "      <td>0.28</td>\n",
       "      <td>False.</td>\n",
       "    </tr>\n",
       "    <tr>\n",
       "      <th>4</th>\n",
       "      <td>OK</td>\n",
       "      <td>75</td>\n",
       "      <td>415</td>\n",
       "      <td>yes</td>\n",
       "      <td>no</td>\n",
       "      <td>0</td>\n",
       "      <td>166.7</td>\n",
       "      <td>113</td>\n",
       "      <td>28.34</td>\n",
       "      <td>148.3</td>\n",
       "      <td>...</td>\n",
       "      <td>186.9</td>\n",
       "      <td>121</td>\n",
       "      <td>8.41</td>\n",
       "      <td>10.1</td>\n",
       "      <td>3</td>\n",
       "      <td>2.73</td>\n",
       "      <td>3</td>\n",
       "      <td>2</td>\n",
       "      <td>0.45</td>\n",
       "      <td>False.</td>\n",
       "    </tr>\n",
       "  </tbody>\n",
       "</table>\n",
       "<p>5 rows × 22 columns</p>\n",
       "</div>"
      ],
      "text/plain": [
       "  state  account_length  area_code intl_plan vmail_plan  vmail_message  \\\n",
       "0    KS             128        415        no        yes             25   \n",
       "1    OH             107        415        no        yes             26   \n",
       "2    NJ             137        415        no         no              0   \n",
       "3    OH              84        408       yes         no              0   \n",
       "4    OK              75        415       yes         no              0   \n",
       "\n",
       "   day_mins  day_calls  day_charge  eve_mins   ...    night_mins  night_calls  \\\n",
       "0     265.1        110       45.07     197.4   ...         244.7           91   \n",
       "1     161.6        123       27.47     195.5   ...         254.4          103   \n",
       "2     243.4        114       41.38     121.2   ...         162.6          104   \n",
       "3     299.4         71       50.90      61.9   ...         196.9           89   \n",
       "4     166.7        113       28.34     148.3   ...         186.9          121   \n",
       "\n",
       "   night_charge  intl_mins  intl_calls  intl_charge  custserv_calls  \\\n",
       "0         11.01       10.0           3         2.70               1   \n",
       "1         11.45       13.7           3         3.70               1   \n",
       "2          7.32       12.2           5         3.29               0   \n",
       "3          8.86        6.6           7         1.78               2   \n",
       "4          8.41       10.1           3         2.73               3   \n",
       "\n",
       "   treatment  mes_estim   churn  \n",
       "0          1       0.65  False.  \n",
       "1          0       0.55  False.  \n",
       "2          0       0.72  False.  \n",
       "3          1       0.28  False.  \n",
       "4          2       0.45  False.  \n",
       "\n",
       "[5 rows x 22 columns]"
      ]
     },
     "execution_count": 2,
     "metadata": {},
     "output_type": "execute_result"
    }
   ],
   "source": [
    "data = pd.read_csv('churn_analysis.csv')\n",
    "data.drop('Unnamed: 0', 1, inplace=True)\n",
    "data.head()"
   ]
  },
  {
   "cell_type": "markdown",
   "metadata": {},
   "source": [
    "# 1\n",
    "Давайте рассмотрим всех пользователей из контрольной группы (treatment = 1). Для таких пользователей мы хотим проверить гипотезу о том, что штат абонента не влияет на то, перестанет ли абонент пользоваться услугами оператора. Постройте таблицы сопряженности между каждой из всех 1275 возможных неупорядоченных пар штатов и значением признака churn. Заметьте, что, например, (AZ, HI) и (HI, AZ) — это одна и та же пара. Какой критерий подходит для решения этой задачи? Сколько достигаемых уровней значимости оказались меньше, чем α=0.05?"
   ]
  },
  {
   "cell_type": "code",
   "execution_count": 3,
   "metadata": {
    "collapsed": true
   },
   "outputs": [],
   "source": [
    "# наша контрольная группа\n",
    "treatment_1 = data[data.treatment == 1]"
   ]
  },
  {
   "cell_type": "code",
   "execution_count": 4,
   "metadata": {
    "collapsed": true
   },
   "outputs": [],
   "source": [
    "# названия всех штатов\n",
    "names_of_states = list(set(treatment_1.state))\n",
    "\n",
    "# неупорядоченные пары всех штатов\n",
    "states_combinations = itertools.combinations(names_of_states, 2)"
   ]
  },
  {
   "cell_type": "code",
   "execution_count": 5,
   "metadata": {
    "collapsed": true
   },
   "outputs": [],
   "source": [
    "# формируем список из 1275 неупорядоченных пар штатов\n",
    "states = []\n",
    "for combination in states_combinations:\n",
    "    states.append(combination)\n",
    "    \n",
    "results = ['True.', 'False.']"
   ]
  },
  {
   "cell_type": "code",
   "execution_count": 6,
   "metadata": {
    "collapsed": true
   },
   "outputs": [],
   "source": [
    "# def Generate_contingency_for_states_pairs_and_churn(results, states):\n",
    "#     \"\"\"Метод формирует таблицу сопряженности для неупорядоченныйх пар\n",
    "#        штатов и значениями churn.\"\"\"\n",
    "    \n",
    "#     contingency = pd.DataFrame(columns=results, index=states)\n",
    "\n",
    "#     for result in results:\n",
    "#         for state in states:\n",
    "#             contingency[result][state] = treatment_1.loc[((treatment_1.state==state[0]) \n",
    "#                                                       | (treatment_1.state==state[1])) \n",
    "#                                                      & (treatment_1.churn==result)].shape[0]\n",
    "        \n",
    "#     contingency['row_totals'] = contingency.sum(1)\n",
    "#     contingency.loc['col_totals'] = contingency.sum(0)\n",
    "#     return contingency"
   ]
  },
  {
   "cell_type": "markdown",
   "metadata": {},
   "source": [
    "Построим таблицы сопряженности между каждой из 1275 возможных неупорядоченных пар штатов и значением признака churn."
   ]
  },
  {
   "cell_type": "code",
   "execution_count": 7,
   "metadata": {
    "collapsed": true
   },
   "outputs": [],
   "source": [
    "def Generate_contingency_list(states, results):\n",
    "    \"\"\"Метод генерирует 1275 таблиц сопряженности для каждой из неупорядоченный пар штатов и значений churn\"\"\"\n",
    "    \n",
    "    contingencies = []\n",
    "    \n",
    "    for i in range(len(states)):\n",
    "        contingency = pd.DataFrame(index=states[i], columns=results)\n",
    "        for result in results:\n",
    "            for state in states[i]:\n",
    "                contingency[result][state] = treatment_1.loc[(treatment_1.state == state)\n",
    "                                      & (treatment_1.churn == result)].shape[0]\n",
    "                \n",
    "    #     contingency['row_totals'] = contingency.sum(1)\n",
    "    #     contingency.loc['col_totals'] = contingency.sum(0)\n",
    "        \n",
    "        contingencies.append(contingency)        \n",
    "    \n",
    "    return contingencies"
   ]
  },
  {
   "cell_type": "code",
   "execution_count": 8,
   "metadata": {
    "collapsed": true
   },
   "outputs": [],
   "source": [
    "# формируем список таблиц сопряженности\n",
    "contingencies = Generate_contingency_list(states, results)"
   ]
  },
  {
   "cell_type": "markdown",
   "metadata": {},
   "source": [
    "Проверим гипотезу о том, что штат абонента не влияет на то, перестанет ли абонент пользоваться услугами оператора.\n",
    "<p>Введем основную и альтернативные гипотезы:</p>\n",
    "$\\begin{equation*}\n",
    " \\begin{cases}\n",
    "   H_0 :\\text{признаки state и churn независимы}\\\\\n",
    "   H_1 : H_0 \\text{ неверна}\n",
    " \\end{cases}\n",
    "\\end{equation*}$"
   ]
  },
  {
   "cell_type": "markdown",
   "metadata": {},
   "source": [
    "Для проверки данной гипотезы воспользуемся точным критерием Фишера по той причине, что мы осуществляем сравнение очень малых выборок, и наши таблицы сопряженности имеют размерность 2х2."
   ]
  },
  {
   "cell_type": "code",
   "execution_count": 9,
   "metadata": {},
   "outputs": [
    {
     "name": "stdout",
     "output_type": "stream",
     "text": [
      "10 достигаемых уровней значимости оказались меньше, чем α=0.05\n"
     ]
    }
   ],
   "source": [
    "count = 0\n",
    "for contingency in contingencies:\n",
    "    p = sts.fisher_exact(contingency)[1]\n",
    "    if p <= 0.05:\n",
    "        count += 1\n",
    "print(\"%d достигаемых уровней значимости оказались меньше, чем α=0.05\"%count)"
   ]
  },
  {
   "cell_type": "markdown",
   "metadata": {},
   "source": [
    "Гипотеза $H_0$ отвергается в пользу $H_1$ в меньшенстве случаев, поэтому можно сделать вывод о том, что штат абонента не влияет на прекращение использования услуг оператора. "
   ]
  },
  {
   "cell_type": "code",
   "execution_count": 10,
   "metadata": {
    "collapsed": true
   },
   "outputs": [],
   "source": [
    "# states_pairs_and_churn_contingency = Generate_contingency_for_states_pairs_and_churn(results, states)"
   ]
  },
  {
   "cell_type": "code",
   "execution_count": 11,
   "metadata": {
    "collapsed": true
   },
   "outputs": [],
   "source": [
    "# observed_pairs = states_pairs_and_churn_contingency.ix[0:1275, 0:2]\n",
    "# observed_pairs.head()"
   ]
  },
  {
   "cell_type": "code",
   "execution_count": 12,
   "metadata": {
    "collapsed": true,
    "scrolled": true
   },
   "outputs": [],
   "source": [
    "# stat, p_value, degrees, exp = sts.chi2_contingency(observed=observed_pairs)\n",
    "# print('Chi squared statistics value: ',stat)\n",
    "# print('P value:', p_value)"
   ]
  },
  {
   "cell_type": "code",
   "execution_count": 13,
   "metadata": {
    "collapsed": true
   },
   "outputs": [],
   "source": [
    "# crit_stat = sts.chi2.ppf(0.05, degrees)\n",
    "# print('Critical chi squared statistics value: ',crit_stat)"
   ]
  },
  {
   "cell_type": "code",
   "execution_count": 14,
   "metadata": {
    "collapsed": true
   },
   "outputs": [],
   "source": [
    "# if stat > crit_stat:\n",
    "#     print('Null hypothesis is false, features are dependent!')\n",
    "# else:\n",
    "#     print('Null hypothesis is true, features are independent!')"
   ]
  },
  {
   "cell_type": "markdown",
   "metadata": {},
   "source": [
    "# 2\n",
    "Посчитайте корреляции Пирсона и Спирмена между day_calls и mes_estim на всех данных, оцените их значимость, дайте интерпретацию результата."
   ]
  },
  {
   "cell_type": "markdown",
   "metadata": {},
   "source": [
    "Прежде чем смотреть значения корреляции Пирсона и Спирмена для day_calls и mes_estim посмотрим, насколько распределение этих признаков приближено к нормальному, потому что нормальность признаков требуется для рассчета корреляции Пирсона."
   ]
  },
  {
   "cell_type": "code",
   "execution_count": 15,
   "metadata": {},
   "outputs": [
    {
     "data": {
      "text/plain": [
       "((array([-3.5297919 , -3.28786833, -3.15418238, ...,  3.15418238,\n",
       "          3.28786833,  3.5297919 ]),\n",
       "  array([  0,   0,  30, ..., 160, 163, 165], dtype=int64)),\n",
       " (20.063266290159007, 100.43564356435644, 0.99890169693028485))"
      ]
     },
     "execution_count": 15,
     "metadata": {},
     "output_type": "execute_result"
    },
    {
     "data": {
      "image/png": "[encoded data removed]",
      "text/plain": [
       "<matplotlib.figure.Figure at 0x28150354710>"
      ]
     },
     "metadata": {},
     "output_type": "display_data"
    }
   ],
   "source": [
    "sts.probplot(data.day_calls, dist='norm', plot=pylab)"
   ]
  },
  {
   "cell_type": "code",
   "execution_count": 16,
   "metadata": {},
   "outputs": [
    {
     "data": {
      "text/plain": [
       "((array([-3.5297919 , -3.28786833, -3.15418238, ...,  3.15418238,\n",
       "          3.28786833,  3.5297919 ]),\n",
       "  array([ 0.05,  0.05,  0.05, ...,  0.89,  0.91,  0.96])),\n",
       " (0.13861708020693372, 0.48423642364236419, 0.99960504839853292))"
      ]
     },
     "execution_count": 16,
     "metadata": {},
     "output_type": "execute_result"
    },
    {
     "data": {
      "image/png": "[encoded data removed]",
      "text/plain": [
       "<matplotlib.figure.Figure at 0x28150354198>"
      ]
     },
     "metadata": {},
     "output_type": "display_data"
    }
   ],
   "source": [
    "sts.probplot(data.mes_estim, dist='norm', plot=pylab)"
   ]
  },
  {
   "cell_type": "markdown",
   "metadata": {},
   "source": [
    "Как видно из графиков выше, распределение признаков достаточно сильно приближено к нормальному."
   ]
  },
  {
   "cell_type": "markdown",
   "metadata": {},
   "source": [
    "<p>Введем основную и альтернативные гипотезы:</p>\n",
    "$\\begin{equation*}\n",
    " \\begin{cases}\n",
    "   H_0 :\\text{значения корреляций являются статистически незначимыми}\\\\\n",
    "   H_1 :\\text{значения корреляций являются статистически значимыми}\n",
    " \\end{cases}\n",
    "\\end{equation*}$"
   ]
  },
  {
   "cell_type": "code",
   "execution_count": 17,
   "metadata": {},
   "outputs": [
    {
     "name": "stdout",
     "output_type": "stream",
     "text": [
      "PearsonResult(correlation=-0.051794, pvalue=0.002780)\n"
     ]
    }
   ],
   "source": [
    "pearson, pearson_p = sts.pearsonr(data.day_calls, data.mes_estim)\n",
    "print('PearsonResult(correlation=%f, pvalue=%f)' % (pearson, pearson_p))"
   ]
  },
  {
   "cell_type": "code",
   "execution_count": 27,
   "metadata": {
    "collapsed": true
   },
   "outputs": [],
   "source": [
    "# критическое значение t-критерия стьюдента при alpha=0.05 и 3331 степенями своободы\n",
    "# t_crit = 1.96"
   ]
  },
  {
   "cell_type": "code",
   "execution_count": 28,
   "metadata": {
    "collapsed": true
   },
   "outputs": [],
   "source": [
    "# t_pearson = (pearson*sqrt(len(data.day_calls) - 2))/(1-pearson**2)\n",
    "# t_pearson"
   ]
  },
  {
   "cell_type": "code",
   "execution_count": 29,
   "metadata": {
    "collapsed": true
   },
   "outputs": [],
   "source": [
    "# def Check_hypothesis(t, t_crit):\n",
    "#     if abs(t) > t_crit:\n",
    "#         print(\"null hypothesis is false, correlation is significant\")\n",
    "#     else:\n",
    "#         print('null hypothesus is true, correlation is not significant')"
   ]
  },
  {
   "cell_type": "code",
   "execution_count": 30,
   "metadata": {
    "collapsed": true
   },
   "outputs": [],
   "source": [
    "# Check_hypothesis(t_pearson, t_crit)"
   ]
  },
  {
   "cell_type": "code",
   "execution_count": 22,
   "metadata": {},
   "outputs": [
    {
     "name": "stdout",
     "output_type": "stream",
     "text": [
      "SpearmanResult(correlation=0.043350, pvalue=0.012317)\n"
     ]
    }
   ],
   "source": [
    "spearman, spearman_p = sts.spearmanr(data.day_calls, data.mes_estim)\n",
    "print('SpearmanResult(correlation=%f, pvalue=%f)' % (spearman, spearman_p))"
   ]
  },
  {
   "cell_type": "code",
   "execution_count": 24,
   "metadata": {
    "collapsed": true
   },
   "outputs": [],
   "source": [
    "# t_spearman = (spearman*sqrt(len(data.day_calls) - 2))/(1-spearman**2)\n",
    "# t_spearman"
   ]
  },
  {
   "cell_type": "code",
   "execution_count": 25,
   "metadata": {
    "collapsed": true
   },
   "outputs": [],
   "source": [
    "# Check_hypothesis(t_spearman, t_crit)"
   ]
  },
  {
   "cell_type": "markdown",
   "metadata": {},
   "source": [
    "$P$-значения для обоих видов корреляции между признаками меньше, чем $\\alpha=0.05$, поэтому значения корреляций можно считать статистически __значимыми__."
   ]
  },
  {
   "cell_type": "markdown",
   "metadata": {},
   "source": [
    "# 3\n",
    "Посчитайте значение коэффицента корреляции Крамера между штатом (state) и оттоком пользователей (churn) для всех пользователей, которые находились в контрольной группе (treatment=1). Проверьте гипотезу об отсутствии связи между этими признаками."
   ]
  },
  {
   "cell_type": "code",
   "execution_count": 34,
   "metadata": {
    "collapsed": true
   },
   "outputs": [],
   "source": [
    "def Generate_contingency_for_states_and_churn(results, names_of_states):\n",
    "    \"\"\"Метод формирует таблицу сопряженности для штатов и значений churn.\"\"\"\n",
    "    \n",
    "    contingency = pd.DataFrame(columns=results, index=names_of_states)\n",
    "\n",
    "    for result in results:\n",
    "        for name in names_of_states:\n",
    "            contingency[result][name] = treatment_1.loc[(treatment_1.state == name) \n",
    "                                & (treatment_1.churn == result)].shape[0]\n",
    "        \n",
    "    contingency['row_totals'] = contingency.sum(1)\n",
    "    contingency.loc['col_totals'] = contingency.sum(0)\n",
    "    return contingency"
   ]
  },
  {
   "cell_type": "code",
   "execution_count": 35,
   "metadata": {
    "collapsed": true
   },
   "outputs": [],
   "source": [
    "states_and_churn_contingency = Generate_contingency_for_states_and_churn(results, names_of_states)"
   ]
  },
  {
   "cell_type": "code",
   "execution_count": 36,
   "metadata": {},
   "outputs": [
    {
     "data": {
      "text/plain": [
       "(52, 3)"
      ]
     },
     "execution_count": 36,
     "metadata": {},
     "output_type": "execute_result"
    }
   ],
   "source": [
    "states_and_churn_contingency.shape"
   ]
  },
  {
   "cell_type": "code",
   "execution_count": 37,
   "metadata": {},
   "outputs": [
    {
     "data": {
      "text/html": [
       "<div>\n",
       "<table border=\"1\" class=\"dataframe\">\n",
       "  <thead>\n",
       "    <tr style=\"text-align: right;\">\n",
       "      <th></th>\n",
       "      <th>True.</th>\n",
       "      <th>False.</th>\n",
       "    </tr>\n",
       "  </thead>\n",
       "  <tbody>\n",
       "    <tr>\n",
       "      <th>SD</th>\n",
       "      <td>3</td>\n",
       "      <td>20</td>\n",
       "    </tr>\n",
       "    <tr>\n",
       "      <th>ID</th>\n",
       "      <td>2</td>\n",
       "      <td>16</td>\n",
       "    </tr>\n",
       "    <tr>\n",
       "      <th>MS</th>\n",
       "      <td>4</td>\n",
       "      <td>20</td>\n",
       "    </tr>\n",
       "    <tr>\n",
       "      <th>WY</th>\n",
       "      <td>2</td>\n",
       "      <td>20</td>\n",
       "    </tr>\n",
       "    <tr>\n",
       "      <th>ND</th>\n",
       "      <td>3</td>\n",
       "      <td>21</td>\n",
       "    </tr>\n",
       "  </tbody>\n",
       "</table>\n",
       "</div>"
      ],
      "text/plain": [
       "   True. False.\n",
       "SD     3     20\n",
       "ID     2     16\n",
       "MS     4     20\n",
       "WY     2     20\n",
       "ND     3     21"
      ]
     },
     "execution_count": 37,
     "metadata": {},
     "output_type": "execute_result"
    }
   ],
   "source": [
    "observed_state = states_and_churn_contingency.ix[0:51, 0:2]\n",
    "observed_state.head()"
   ]
  },
  {
   "cell_type": "markdown",
   "metadata": {},
   "source": [
    "$\\chi^2$ для observed"
   ]
  },
  {
   "cell_type": "code",
   "execution_count": 40,
   "metadata": {},
   "outputs": [
    {
     "name": "stdout",
     "output_type": "stream",
     "text": [
      "Chi squared statistics:  44.0527123669255\n",
      "P value: 0.709759004278\n"
     ]
    }
   ],
   "source": [
    "stat, p_value, degrees, exp = sts.chi2_contingency(observed=observed_state)\n",
    "print('Chi squared statistics: ',stat)\n",
    "print('P value:', p_value)"
   ]
  },
  {
   "cell_type": "markdown",
   "metadata": {},
   "source": [
    "Посчитаем $V$ коэффициент Крамера для observed.\n",
    "\n",
    "<p>Формула коэффициента $V$ Крамера выглядит как $V=\\sqrt{\\frac{\\chi^2 / n}{min(k-1, r-1)}}$, где $k$-количество столбцов, $r$-количество строк, $n$-количество элементов.</p>\n",
    "\n",
    "<p>Но так как в нашем датасете количество столбцов равно 2, то формула принимает следующий вид: $V=\\sqrt{\\frac{\\chi^2}{n}}$ </p>"
   ]
  },
  {
   "cell_type": "code",
   "execution_count": 39,
   "metadata": {},
   "outputs": [
    {
     "name": "stdout",
     "output_type": "stream",
     "text": [
      "Cramer's V: 0.20039321502\n"
     ]
    }
   ],
   "source": [
    "# считаем значение коэффициента Крамера\n",
    "V = sqrt((stat / np.sum(observed_state.sum().sum())))\n",
    "print(\"Cramer's V:\", V)"
   ]
  },
  {
   "cell_type": "markdown",
   "metadata": {},
   "source": [
    "Коэффициент $V$ Крамера является мерой силы взаимосвязи между двумя категориальными признаками и принимает значения $V\\in[0,1]$\n",
    "<p>Для признаков state и churn $V$=0.2, значит, между ними имеется небольшая связь.</p>\n",
    "<p>Чтобы окончательно определиться, какую связь имеют признаки state и churn, проверим гипотезу об их независимости при $\\alpha=0.05$.</p>"
   ]
  },
  {
   "cell_type": "markdown",
   "metadata": {},
   "source": [
    "<p>Введем основную и альтернативные гипотезы:</p>\n",
    "$\\begin{equation*}\n",
    " \\begin{cases}\n",
    "   H_0 :\\text{признаки state и churn независимы}\\\\\n",
    "   H_1 : H_0\\text{ неверна}\n",
    " \\end{cases}\n",
    "\\end{equation*}$"
   ]
  },
  {
   "cell_type": "markdown",
   "metadata": {},
   "source": [
    "Так как $P >\\alpha$    $(\\alpha=0.05)$, $H_0$ __не__ отвергается в пользу $H_1$."
   ]
  },
  {
   "cell_type": "markdown",
   "metadata": {},
   "source": [
    "# 4\n",
    "Проведите анализ эффективности удержания (churn) с помощью раличных методов (treatment = 0, treatment = 2) относительно контрольной группы пользователей (treatment = 1). Что можно сказать об этих двух методах (treatment = 0, treatment = 2)? Одинаковы ли они с точки зрения эффективности? Каким бы методом вы бы посоветовали воспользоваться компании?"
   ]
  },
  {
   "cell_type": "code",
   "execution_count": 41,
   "metadata": {
    "collapsed": true
   },
   "outputs": [],
   "source": [
    "# группа, к которой применялся метод удержания 0\n",
    "treatment_0 = data[data.treatment == 0]\n",
    "\n",
    "# группа, к которой применялся метод удержания 2\n",
    "treatment_2 = data[data.treatment == 2]"
   ]
  },
  {
   "cell_type": "code",
   "execution_count": 49,
   "metadata": {
    "collapsed": true
   },
   "outputs": [],
   "source": [
    "def Count_Z_stat(p1, p2, n1, n2):\n",
    "    \"\"\"Метод считает Z статистику для гипотезы о равенстве долей признаков\"\"\"\n",
    "    P = (p1 * n1 + p2 * n2) / (n1 + n2)\n",
    "    \n",
    "    return (p1 - p2) / np.sqrt(P * (1 - P) * (1 / n1 + 1 / n2))"
   ]
  },
  {
   "cell_type": "code",
   "execution_count": 50,
   "metadata": {
    "collapsed": true
   },
   "outputs": [],
   "source": [
    "def proportions_diff_z_test(z_stat, alternative = 'two-sided'):\n",
    "    \"\"\"Метод считает p-value для рассчитанной Z статистики, в зависимости от выбора альтернативной гипотезы\"\"\"\n",
    "    \n",
    "    if alternative not in ('two-sided', 'less', 'greater'):\n",
    "        raise ValueError(\"alternative not recognized\\n\"\n",
    "                         \"should be 'two-sided', 'less' or 'greater'\")\n",
    "    \n",
    "    if alternative == 'two-sided':\n",
    "        return 2 * (1 - sts.norm.cdf(np.abs(z_stat)))\n",
    "    \n",
    "    if alternative == 'less':\n",
    "        return sts.norm.cdf(z_stat)\n",
    "\n",
    "    if alternative == 'greater':\n",
    "        return 1 - sts.norm.cdf(z_stat)"
   ]
  },
  {
   "cell_type": "markdown",
   "metadata": {},
   "source": [
    "###### Проверка для treatment_0 и treatment_1"
   ]
  },
  {
   "cell_type": "markdown",
   "metadata": {},
   "source": [
    "<p>Введем основную и альтернативные гипотезы:</p>\n",
    "$\\begin{equation*}\n",
    " \\begin{cases}\n",
    "   H_0 : p_1=p_2 \\\\\n",
    "   H_1 : p_1\\leq p_2\n",
    " \\end{cases}\n",
    "\\end{equation*}$"
   ]
  },
  {
   "cell_type": "code",
   "execution_count": 51,
   "metadata": {},
   "outputs": [
    {
     "name": "stdout",
     "output_type": "stream",
     "text": [
      "Partitioning Inequalities test(Z=-1.204669, p_value=0.114166)\n"
     ]
    }
   ],
   "source": [
    "# количество абонентов в группе, к которой применялся метод удержания 0\n",
    "n1 = pd.value_counts(treatment_0.churn).sum()\n",
    "\n",
    "# количество абонентов в контрольной группе\n",
    "n2 = n = pd.value_counts(treatment_1.churn).sum()\n",
    "\n",
    "# доля ушедших из группы с 0 методом удержания\n",
    "p1 = pd.value_counts(treatment_0.churn)['True.'] / n1\n",
    "\n",
    "# доля ушедших из контрольной группы\n",
    "p2 = pd.value_counts(treatment_1.churn)['True.'] / n2\n",
    "\n",
    "Z = Count_Z_stat(p1, p2, n1, n2)\n",
    "p = proportions_diff_z_test(Z, 'less')\n",
    "print(\"Partitioning Inequalities test(Z=%f, p_value=%f)\"%(Z, p))"
   ]
  },
  {
   "cell_type": "markdown",
   "metadata": {},
   "source": [
    "Из-за того, что $p>\\alpha$, гипотеза $H_0$ <b>не</b> отвергается в пользу гипотезы $H_1$"
   ]
  },
  {
   "cell_type": "markdown",
   "metadata": {},
   "source": [
    "##### Проверка для treatment_2 и treatment_1"
   ]
  },
  {
   "cell_type": "markdown",
   "metadata": {},
   "source": [
    "<p>Введем основную и альтернативные гипотезы:</p>\n",
    "$\\begin{equation*}\n",
    " \\begin{cases}\n",
    "   H_0 : p_1=p_2 \\\\\n",
    "   H_1 : p_1\\leq p_2\n",
    " \\end{cases}\n",
    "\\end{equation*}$"
   ]
  },
  {
   "cell_type": "code",
   "execution_count": 52,
   "metadata": {},
   "outputs": [
    {
     "name": "stdout",
     "output_type": "stream",
     "text": [
      "Partitioning Inequalities test(Z=-2.599055, p_value=0.004674)\n"
     ]
    }
   ],
   "source": [
    "# количество абонентов в группе, к которой применялся метод удержания 2\n",
    "n1 = pd.value_counts(treatment_2.churn).sum()\n",
    "\n",
    "# количество абонентов в контрольной группе\n",
    "n2 = n = pd.value_counts(treatment_1.churn).sum()\n",
    "\n",
    "# доля ушедших из группы со 2 методом удержания\n",
    "p1 = pd.value_counts(treatment_2.churn)['True.'] / n1\n",
    "\n",
    "# доля ушедших из контрольной группы\n",
    "p2 = pd.value_counts(treatment_1.churn)['True.'] / n2\n",
    "\n",
    "Z = Count_Z_stat(p1, p2, n1, n2)\n",
    "p = proportions_diff_z_test(Z, 'less')\n",
    "print(\"Partitioning Inequalities test(Z=%f, p_value=%f)\"%(Z, p))"
   ]
  },
  {
   "cell_type": "markdown",
   "metadata": {},
   "source": [
    "Из-за того, что $p\\leq\\alpha$, гипотеза $H_0$ отвергается в пользу гипотезы $H_1$\n",
    "<p>Получается, что в группе, к которой применялся второй метод удержания, доля ушедших меньше, чем в контрольной группе __treatment_1__</p>\n",
    "<p>Методы удержания 0 и 2 не одинаковы с точки зрения эффективности. Метод 2 оказался лучше и я порекомендовал бы его.</p>"
   ]
  }
 ],
 "metadata": {
  "anaconda-cloud": {},
  "kernelspec": {
   "display_name": "Python 3",
   "language": "python",
   "name": "python3"
  },
  "language_info": {
   "codemirror_mode": {
    "name": "ipython",
    "version": 3
   },
   "file_extension": ".py",
   "mimetype": "text/x-python",
   "name": "python",
   "nbconvert_exporter": "python",
   "pygments_lexer": "ipython3",
   "version": "3.6.2"
  }
 },
 "nbformat": 4,
 "nbformat_minor": 1
}
